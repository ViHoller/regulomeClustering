{
 "cells": [
  {
   "cell_type": "markdown",
   "metadata": {},
   "source": [
    "***Parse network and gene sets to proteinID***"
   ]
  },
  {
   "cell_type": "code",
   "execution_count": 121,
   "metadata": {},
   "outputs": [],
   "source": [
    "import pandas as pd\n",
    "import pickle\n",
    "\n",
    "path = './files/'"
   ]
  },
  {
   "cell_type": "markdown",
   "metadata": {},
   "source": [
    "Regulome Network from FunCoup"
   ]
  },
  {
   "cell_type": "code",
   "execution_count": 141,
   "metadata": {},
   "outputs": [],
   "source": [
    "# import edge list ---- USE CYTOSCAPE TO VISUALIZE OR GRAPHISTRY\n",
    "regulome_network = pd.read_csv(\"./files/humanRegulomeNetwork\", delimiter=\"\\t\")\n",
    "regulome_network_edges = regulome_network[['2:FunCoupAid', '3:FunCoupBid', '5:PPV', '18:LLR_GRG']]\n",
    "regulome_network_edges.columns = ['ProteinAid', 'ProteinBid', 'PPV', 'LLR_GRG']\n",
    "regulome_network_edges = regulome_network_edges.astype({'ProteinAid': 'str', 'ProteinBid':'str'})\n",
    "regulome_network_edges.to_csv(path_or_buf='./files/human_regulome_pd.gz', compression='infer', index=False)"
   ]
  },
  {
   "cell_type": "markdown",
   "metadata": {},
   "source": [
    "MSigDB - disease gene sets  "
   ]
  },
  {
   "cell_type": "code",
   "execution_count": 158,
   "metadata": {},
   "outputs": [],
   "source": [
    "gsymbol_to_proteinid_dict = dict()\n",
    "with open(path+'human_mapping', 'r') as map_file:\n",
    "    for line in map_file.readlines():\n",
    "        line = line.strip('\\n').split('\\t')\n",
    "        if line[0] == 'Gene_Symbol':\n",
    "            gsymbol_to_proteinid_dict[line[1]] = line[2]\n",
    "\n",
    "def msigdb_json_to_dict(file): # very slow\n",
    "    gene_set_dict = dict()\n",
    "    with open(path+file, 'rb') as f:\n",
    "        file_df = pd.read_json(f)\n",
    "    gene_sets = file_df.loc['geneSymbols']\n",
    "    for set in gene_sets.items():\n",
    "        gene_set = pd.Series(data=set[1]).map(gsymbol_to_proteinid_dict).dropna()\n",
    "        gene_set_dict[set[0]] = gene_set.to_list()\n",
    "    with open(path+file.strip('.json')+'_dict.pkl', 'wb') as pkl_file:\n",
    "        pickle.dump(gene_set_dict, pkl_file)\n"
   ]
  },
  {
   "cell_type": "code",
   "execution_count": 159,
   "metadata": {},
   "outputs": [],
   "source": [
    "msigdb_json_to_dict('msigdb_c6_all.json')\n",
    "msigdb_json_to_dict('msigdb_c2_cgp.json')\n",
    "msigdb_json_to_dict('msigdb_c3_tft.json')"
   ]
  },
  {
   "cell_type": "code",
   "execution_count": null,
   "metadata": {},
   "outputs": [
    {
     "name": "stderr",
     "output_type": "stream",
     "text": [
      "/tmp/ipykernel_1944/321458049.py:7: FutureWarning: The 'limit' keyword in DataFrame.replace is deprecated and will be removed in a future version.\n",
      "  kegg_pathways = kegg_pathways.replace(to_replace=id_map, limit=0)\n"
     ]
    }
   ],
   "source": [
    "kegg_pathways = pd.read_csv(filepath_or_buffer='./files/kegg_hsa_pathways', names=['pathway', 'kegg_id'], sep='\\t') # 36381\n",
    "uniprot_ids = pd.read_csv(filepath_or_buffer='./files/uniprot_ids', names=['kegg_id', 'uniprot_id'], sep='\\t', skiprows=1) # 517 not matched!!!  8251 matched\n",
    "uniprot_ids = uniprot_ids[~(uniprot_ids['kegg_id'] == uniprot_ids['uniprot_id'])]\n",
    "uniprot_ids.shape\n",
    "id_map = uniprot_ids.set_index('kegg_id')['uniprot_id'].to_dict()\n",
    "len(id_map)\n",
    "kegg_pathways = kegg_pathways.replace(to_replace=id_map, limit=0)\n",
    "kegg_pathways.columns = ['pathway', 'uniprot_id']\n",
    "pathways_dict = kegg_pathways.groupby('pathway')['uniprot_id'].apply(list).to_dict()\n",
    "# kegg_pathways = \n",
    "# # !!!!! SHOULD I FILTER OUT NON UNIPROT ONE?? !!! - probably yes\n",
    "# KEGG ids point towards multiple uniprot accessions - how to handle multiple accessions\n",
    "# have to filter out non matched !!!!!!\n",
    "\n",
    "# number of kegg entries mapped to more than 1 uniprot entry\n",
    "uniprot_ids_counts = uniprot_ids['kegg_id'].value_counts()\n",
    "multi_mapped = uniprot_ids_counts.where(uniprot_ids_counts > 1).dropna().shape # 23 entries assigned more than 1 uniprot entry\n",
    "print(f\"number of kegg entries mapped to multiple uniprot entries: {multi_mapped}\")\n",
    "\n",
    "\n",
    "# number of kegg pathwways\n",
    "print(f\"Number of kegg pathways: {len(kegg_pathways['pathway'].unique())}\")"
   ]
  }
 ],
 "metadata": {
  "kernelspec": {
   "display_name": "regulome",
   "language": "python",
   "name": "python3"
  },
  "language_info": {
   "codemirror_mode": {
    "name": "ipython",
    "version": 3
   },
   "file_extension": ".py",
   "mimetype": "text/x-python",
   "name": "python",
   "nbconvert_exporter": "python",
   "pygments_lexer": "ipython3",
   "version": "3.13.0"
  }
 },
 "nbformat": 4,
 "nbformat_minor": 2
}
