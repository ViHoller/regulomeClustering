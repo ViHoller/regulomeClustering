{
 "cells": [
  {
   "cell_type": "code",
   "execution_count": 1,
   "metadata": {},
   "outputs": [],
   "source": [
    "import pandas as pd\n",
    "import igraph as ig\n",
    "from ease import EASE\n",
    "import seaborn as sns\n",
    "import numpy as np\n",
    "from compress_pickle import load, dump\n",
    "import multiprocessing\n",
    "import itertools as it\n",
    "import math\n",
    "\n",
    "path = './files/'"
   ]
  },
  {
   "cell_type": "code",
   "execution_count": 2,
   "metadata": {},
   "outputs": [],
   "source": [
    "# function to load pickle files\n",
    "def open_pickle(file):\n",
    "    with open(path+file, 'rb') as pickle_file:\n",
    "        return load(path=pickle_file, compression='infer')\n"
   ]
  },
  {
   "cell_type": "code",
   "execution_count": 3,
   "metadata": {},
   "outputs": [],
   "source": [
    "# get network data with pd\n",
    "regulome_network_edges = pd.read_csv(filepath_or_buffer='./files/human_regulome_pd.gz', compression='infer')\n",
    "regulome_network_edges = regulome_network_edges.astype({'ProteinAid': 'str', 'ProteinBid':'str'})\n",
    "\n",
    "regulome_network_graph = ig.Graph.DataFrame(regulome_network_edges, directed=True, use_vids = False)\n",
    "regulome_network_graph_undirected = ig.Graph.DataFrame(regulome_network_edges, directed=False, use_vids = False)\n"
   ]
  },
  {
   "cell_type": "code",
   "execution_count": 33,
   "metadata": {},
   "outputs": [],
   "source": [
    "# load gene set dictionaries - msigdb\n",
    "msigdb_c6_dict = open_pickle('msigdb_c6_all_dict.pkl')\n",
    "msigdb_c2_cgp_dict = open_pickle('msigdb_c2_cgp_dict.pkl')\n",
    "msigdb_c3_tft_dict = open_pickle('msigdb_c3_tft_dict.pkl')"
   ]
  },
  {
   "cell_type": "code",
   "execution_count": 1,
   "metadata": {},
   "outputs": [
    {
     "ename": "NameError",
     "evalue": "name 'regulome_network_graph' is not defined",
     "output_type": "error",
     "traceback": [
      "\u001b[0;31m---------------------------------------------------------------------------\u001b[0m",
      "\u001b[0;31mNameError\u001b[0m                                 Traceback (most recent call last)",
      "Cell \u001b[0;32mIn[1], line 2\u001b[0m\n\u001b[1;32m      1\u001b[0m \u001b[38;5;66;03m# Investigate Leiden resolution\u001b[39;00m\n\u001b[0;32m----> 2\u001b[0m cov \u001b[38;5;241m=\u001b[39m \u001b[43mregulome_network_graph\u001b[49m\u001b[38;5;241m.\u001b[39mvcount() \u001b[38;5;66;03m# what should I set this to??\u001b[39;00m\n\u001b[1;32m      4\u001b[0m \u001b[38;5;28;01mdef\u001b[39;00m \u001b[38;5;21mcluster_leiden\u001b[39m(graph, res, b\u001b[38;5;241m=\u001b[39m\u001b[38;5;241m0.01\u001b[39m, n_iter\u001b[38;5;241m=\u001b[39m\u001b[38;5;241m3\u001b[39m):\n\u001b[1;32m      5\u001b[0m     \u001b[38;5;28;01mreturn\u001b[39;00m graph\u001b[38;5;241m.\u001b[39mcommunity_leiden(objective_function\u001b[38;5;241m=\u001b[39m\u001b[38;5;124m'\u001b[39m\u001b[38;5;124mmodularity\u001b[39m\u001b[38;5;124m'\u001b[39m,\n\u001b[1;32m      6\u001b[0m                                 weights\u001b[38;5;241m=\u001b[39m\u001b[38;5;124m'\u001b[39m\u001b[38;5;124mPPV\u001b[39m\u001b[38;5;124m'\u001b[39m,\n\u001b[1;32m      7\u001b[0m                                 resolution\u001b[38;5;241m=\u001b[39mres,\n\u001b[1;32m      8\u001b[0m                                 beta\u001b[38;5;241m=\u001b[39mb,\n\u001b[1;32m      9\u001b[0m                                 n_iterations\u001b[38;5;241m=\u001b[39mn_iter) \u001b[38;5;66;03m# only few small clusters and 1 large one\u001b[39;00m\n",
      "\u001b[0;31mNameError\u001b[0m: name 'regulome_network_graph' is not defined"
     ]
    }
   ],
   "source": [
    "# Investigate Leiden resolution\n",
    "cov = regulome_network_graph.vcount() # what should I set this to??\n",
    "\n",
    "def cluster_leiden(graph, res, b=0.01, n_iter=3):\n",
    "    return graph.community_leiden(objective_function='modularity',\n",
    "                                weights='PPV',\n",
    "                                resolution=res,\n",
    "                                beta=b,\n",
    "                                n_iterations=n_iter) # only few small clusters and 1 large one\n",
    "\n",
    "def cluster_louvain(graph, res):\n",
    "    return graph.community_multilevel(weights='PPV',\n",
    "                                    return_levels=False,\n",
    "                                    resolution=res)\n",
    "\n",
    "def set_enrichment(res, beta, gene_set):\n",
    "    print(f\"Resolution: {res}, beta {beta}\")\n",
    "    clusters = cluster_leiden(regulome_network_graph_undirected, res=res, b=beta)\n",
    "\n",
    "    enrichment_dict = dict()\n",
    "    for (cluster_n, cluster) in enumerate(clusters.subgraphs()):\n",
    "        query = cluster.vs['name']\n",
    "        # if (len(query) > 2000) or (len(query) < 3):\n",
    "        #     continue\n",
    "        enrichment = EASE(query_set=query, genesets=gene_set, PT=cov)\n",
    "        enrichment_dict[cluster_n] = (enrichment, len(query), query) # maybe save this as a namedtuple with enrihcment and subgraph\n",
    "    return res, beta, enrichment_dict, len(enrichment_dict)\n",
    "\n",
    "# collect_enrichment(set_enrichment(2))\n",
    "def collect_enrichment(enrichment):\n",
    " # pool returns values in a list, therefore Have tuple in a list and have to extract\n",
    "    cluster_enrichment_dict.setdefault(enrichment[0], dict())[enrichment[1]] = enrichment[2:]\n",
    "    \n",
    "def error_function():\n",
    "    print(f\"Error, could not compute {e}\")\n",
    "\n",
    "\n",
    "def cluster_EASE(gene_set, filename, beta_range=[0.001, 0.005, 0.01, 0.05, 0.1], res_range = range(2, 16, 1), num_processes=6):\n",
    "    global cluster_enrichment_dict\n",
    "    cluster_enrichment_dict = dict() # output is a dictionary (resolution) of tuple with dictionary (per cluster) containing tuple with a pandas df (containing enrichment fr each pathway),\n",
    "    try:\n",
    "        with multiprocessing.Pool(num_processes) as pool: # Have a look at  joblib, dask\n",
    "            for res, beta in it.product(res_range, beta_range):\n",
    "                pool.apply_async(func=set_enrichment, args=(res,beta, gene_set), callback=collect_enrichment, error_callback=error_function)\n",
    "        pool.close()\n",
    "        pool.join()\n",
    "\n",
    "    except KeyboardInterrupt:\n",
    "        pool.close()\n",
    "        pool.terminate()\n",
    "    \n",
    "    with open(path+'clustering_results/'+filename, 'wb') as result_pkl:\n",
    "        dump(cluster_enrichment_dict, result_pkl, compression='infer')\n",
    "\n",
    "    del cluster_enrichment_dict"
   ]
  },
  {
   "cell_type": "code",
   "execution_count": null,
   "metadata": {},
   "outputs": [],
   "source": [
    "# Run the clustering in this cell\n",
    "\n",
    "# to_cluster = {\n",
    "    # 'leiden_2_15_0001_05_msigdb_c2_cgp.gz': misgdb_c2_cgp_dict,\n",
    "    # 'leiden_2_15_0001_05_msigdb_c3_tft.gz': misgdb_c3_tft_dict,\n",
    "    # 'leiden_2_15_0001_05_msigdb_c6_all.gz': msigdb_c6_dict\n",
    "    # }\n",
    "# \n",
    "# for file, gene_set in to_cluster.items():\n",
    "    # print(file)\n",
    "    # cluster_EASE(gene_set=gene_set, filename=file)"
   ]
  }
 ],
 "metadata": {
  "kernelspec": {
   "display_name": "regulome",
   "language": "python",
   "name": "python3"
  },
  "language_info": {
   "codemirror_mode": {
    "name": "ipython",
    "version": 3
   },
   "file_extension": ".py",
   "mimetype": "text/x-python",
   "name": "python",
   "nbconvert_exporter": "python",
   "pygments_lexer": "ipython3",
   "version": "3.13.0"
  }
 },
 "nbformat": 4,
 "nbformat_minor": 2
}
