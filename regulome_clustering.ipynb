{
 "cells": [
  {
   "cell_type": "code",
   "execution_count": 4,
   "metadata": {},
   "outputs": [],
   "source": [
    "import pandas as pd\n",
    "import igraph as ig\n",
    "from ease import EASE\n",
    "import seaborn as sns\n",
    "import numpy as np\n",
    "import pickle\n",
    "import multiprocessing\n",
    "\n",
    "path = './files/'"
   ]
  },
  {
   "cell_type": "code",
   "execution_count": 3,
   "metadata": {},
   "outputs": [],
   "source": [
    "# load gene set dictionaries - msigdb\n",
    "def open_pickle(file):\n",
    "    with open(path+file, 'rb') as pickle_file:\n",
    "        return pickle.load(file=pickle_file)\n",
    "    \n",
    "msigdb_c6_dict = open_pickle('msigdb_c6_all_dict.pkl')\n",
    "misgdb_c2_cgp_dict = open_pickle('msigdb_c2_cgp_dict.pkl')\n",
    "misgdb_c3_tft_dict = open_pickle('msigdb_c3_tft_dict.pkl')\n"
   ]
  },
  {
   "cell_type": "code",
   "execution_count": 5,
   "metadata": {},
   "outputs": [],
   "source": [
    "# get network data from pickle  \n",
    "regulome_network_edges = pd.read_csv(filepath_or_buffer='./files/human_regulome_pd.gz', compression='infer')\n",
    "regulome_network_edges = regulome_network_edges.astype({'ProteinAid': 'str', 'ProteinBid':'str'})\n",
    "\n",
    "regulome_network_graph = ig.Graph.DataFrame(regulome_network_edges, directed=True, use_vids = False)\n",
    "regulome_network_graph_undirected = ig.Graph.DataFrame(regulome_network_edges, directed=False, use_vids = False)"
   ]
  },
  {
   "cell_type": "code",
   "execution_count": 6,
   "metadata": {},
   "outputs": [
    {
     "name": "stdout",
     "output_type": "stream",
     "text": [
      "Reslution: 3Reslution: 4Reslution: 5\n",
      "\n",
      "\n"
     ]
    }
   ],
   "source": [
    "# Investigate Leiden resolution\n",
    "std_output = pd.DataFrame({\n",
    "    'pathway_id': ['---'],\n",
    "    'Overlap': [0],\n",
    "    'Pvalue': [1],\n",
    "    'FDR': [1],\n",
    "    'FWER': [1] \n",
    "})\n",
    "cov = 4000 # what should I set this to??\n",
    "\n",
    "def cluster_leiden(graph, res, b=0.01, n_iter=3):\n",
    "    return graph.community_leiden(objective_function='modularity',\n",
    "                                weights='PPV',\n",
    "                                resolution=res,\n",
    "                                beta=b,\n",
    "                                n_iterations=n_iter) # only few small clusters and 1 large one\n",
    "\n",
    "def cluster_louvain(graph, res):\n",
    "    return graph.community_multilevel(weights='PPV',\n",
    "                                    return_levels=False,\n",
    "                                    resolution=res)\n",
    "\n",
    "\n",
    "cluster_enrichment_dict = dict() # output is a dictionary (resolution) of tuple with dictionary (per cluster) containing tuple with a pandas df (containing enrichment fr each pathway)\n",
    "\n",
    "def set_enrichment(res):\n",
    "    print(f\"Reslution: {res}\")\n",
    "    clusters = cluster_leiden(regulome_network_graph_undirected, res=res, b=0.05)\n",
    "\n",
    "    enrichment_dict = dict()\n",
    "    for (cluster_n, cluster) in enumerate(clusters.subgraphs()):\n",
    "        query = cluster.vs['name']\n",
    "        if (len(query) > 750) or (len(query) < 3):\n",
    "            continue\n",
    "        enrichment = EASE(query_set=query, genesets=misgdb_c3_tft_dict, PT=cov)\n",
    "        enrichment_dict[cluster_n] = (enrichment, len(query), query) # maybe save this as a namedtuple with enrihcment and subgraph\n",
    "    return res, enrichment_dict, len(enrichment_dict)\n",
    "\n",
    "def collect_enrichment(enrichment):\n",
    " # pool returns values in a list, therefore Have tuple in a list and have to extract\n",
    "    cluster_enrichment_dict[enrichment[0]] = enrichment[1:]\n",
    "\n",
    "\n",
    "res_range = np.arange(3, 6, 1)\n",
    "num_processes = 4\n",
    "\n",
    "# collect_enrichment(set_enrichment(2))\n",
    "with multiprocessing.Pool(num_processes) as pool:\n",
    "    pool = multiprocessing.Pool(num_processes)\n",
    "    for res in res_range:\n",
    "        pool.apply_async(func=set_enrichment, args=(res,), callback=collect_enrichment)\n",
    "    pool.close()\n",
    "    pool.join()"
   ]
  },
  {
   "cell_type": "code",
   "execution_count": null,
   "metadata": {},
   "outputs": [],
   "source": [
    "# save to pickle\n",
    "# with open(path+'clustering_results/misgdb_c2_leiden_1_10_1_b005.pkl', 'wb') as file:\n",
    "#     pickle.dump(cluster_enrichment_dict, file=file)"
   ]
  },
  {
   "cell_type": "code",
   "execution_count": null,
   "metadata": {},
   "outputs": [],
   "source": [
    "distributions_df = pd.DataFrame()\n",
    "for (res, cluster_enrichments) in cluster_enrichment_dict.items():\n",
    "    n_clusters = cluster_enrichments[1]\n",
    "    cluster_sizes = [cluster[1] for cluster in cluster_enrichments[0].values()]\n",
    "    distributions_df = pd.concat([distributions_df, pd.DataFrame({'size': cluster_sizes, 'resolution':[res]*n_clusters})])"
   ]
  },
  {
   "cell_type": "code",
   "execution_count": null,
   "metadata": {},
   "outputs": [],
   "source": [
    "distributions_df"
   ]
  },
  {
   "cell_type": "code",
   "execution_count": null,
   "metadata": {},
   "outputs": [],
   "source": [
    "fig = sns.FacetGrid(distributions_df[distributions_df.resolution != 9], col='resolution', col_wrap=4)\n",
    "fig.map(sns.histplot, 'size')\n",
    "fig.fig.suptitle(\"Size distributions of Leiden clusters at different resolutions\")\n",
    "fig.fig.subplots_adjust(top=0.9)\n",
    "fig.savefig('./images/leiden_msigdbc3_1_10_005.png')"
   ]
  },
  {
   "cell_type": "code",
   "execution_count": null,
   "metadata": {},
   "outputs": [],
   "source": [
    "set_sizes = [len(gene_set) for gene_set in misgdb_c2_cgp_dict.values()] \n",
    "print(min(set_sizes))\n",
    "fig = sns.histplot(set_sizes, binwidth=5)\n",
    "fig.set_title(\"Size distribution of MSigDB disease gene sets\")\n",
    "fig.set_xlim([0,500])\n",
    "fig.get_figure().savefig(\"helloo.png\")"
   ]
  },
  {
   "cell_type": "code",
   "execution_count": null,
   "metadata": {},
   "outputs": [
    {
     "name": "stdout",
     "output_type": "stream",
     "text": [
      "1.0\n",
      "1.0638297872340425\n",
      "1.0461538461538462\n"
     ]
    }
   ],
   "source": [
    "CCS_dict = dict()\n",
    "threshold = 0.01\n",
    "\n",
    "for (res, cluster_enrichments) in cluster_enrichment_dict.items():\n",
    "    enriched_list = list()\n",
    "    enrichment_dict = cluster_enrichments[0]\n",
    "    n_clusters = 0\n",
    "    # n_clusters = cluster_enrichments[1] # number of appropriately sized clusters, filtered before EASE\n",
    "    for _, enrichment in enrichment_dict.items():\n",
    "        enrichment = enrichment[0]\n",
    "        enriched = enrichment[enrichment.FDR < threshold]\n",
    "        if len(enriched) != 0:\n",
    "            enriched_list.append(enriched)\n",
    "            n_clusters += 1\n",
    "\n",
    "    if len(enriched_list) == 0:\n",
    "        CCS_dict[res] = (pd.DataFrame({'pathway_id': [],\n",
    "                                                'Overlap': [],\n",
    "                                                'Pvalue': [],\n",
    "                                                'FDR': [],\n",
    "                                                'FWER': []}), 0)\n",
    "        continue\n",
    "    \n",
    "    enriched_df = pd.concat(enriched_list)\n",
    "    n_enriched_pathways = len(pd.unique(enriched_df['pathway_id']))\n",
    "    cluster_per_path = enriched_df.groupby('pathway_id')['pathway_id'].count().mean()\n",
    "    # print(n_enriched_pathways)\n",
    "    # CCS = n_enriched_pathways/(cluster_per_path*n_enriched_pathways)\n",
    "    # print(pathway_per_cluster)\n",
    "\n",
    "    # CCS_dict[res] = (enriched_df, CCS)"
   ]
  },
  {
   "cell_type": "code",
   "execution_count": 114,
   "metadata": {},
   "outputs": [
    {
     "data": {
      "text/plain": [
       "<Axes: >"
      ]
     },
     "execution_count": 114,
     "metadata": {},
     "output_type": "execute_result"
    },
    {
     "data": {
      "image/png": "[encoded data removed]",
      "text/plain": [
       "<Figure size 640x480 with 1 Axes>"
      ]
     },
     "metadata": {},
     "output_type": "display_data"
    }
   ],
   "source": [
    "CCS_list = [CCS[1] for CCS in CCS_dict.values()]\n",
    "resolutions = CCS_dict.keys()\n",
    "\n",
    "sns.lineplot(x=resolutions, y=CCS_list)"
   ]
  },
  {
   "cell_type": "code",
   "execution_count": null,
   "metadata": {},
   "outputs": [],
   "source": [
    "num_pathways = list()\n",
    "for res, hits in CCS_dict.items():\n",
    "    num_pathways.append(len(hits[0].pathway_id.unique()))\n",
    "num_pathways\n",
    " \n",
    "plot = sns.lineplot(x=resolutions, y=num_pathways)\n",
    "plot.set_title(\"Number of enriched pathwys per resolution in Louvain\")\n",
    "plot.set_xlim([0,10])\n"
   ]
  },
  {
   "cell_type": "code",
   "execution_count": null,
   "metadata": {},
   "outputs": [],
   "source": [
    "n_clusters = [n[1] for n in cluster_enrichments.values()]\n",
    "\n",
    "sns.lineplot(x=n_clusters, y=num_pathways)"
   ]
  },
  {
   "cell_type": "code",
   "execution_count": null,
   "metadata": {},
   "outputs": [],
   "source": [
    "infomap_clusters = regulome_network_graph.community_infomap(edge_weights='5:PPV', trials=10) # generaetd some small clusters and 1 large one"
   ]
  },
  {
   "cell_type": "code",
   "execution_count": null,
   "metadata": {},
   "outputs": [],
   "source": [
    "\n",
    "\n",
    "leiden_clusters = regulome_network_graph_undirected.community_leiden(objective_function='modularity',\n",
    "                                                          weights='5:PPV',\n",
    "                                                          resolution=12.0,\n",
    "                                                          beta=0.01,\n",
    "                                                          n_iterations=3) # only few small clusters and 1 large one"
   ]
  },
  {
   "cell_type": "code",
   "execution_count": null,
   "metadata": {},
   "outputs": [],
   "source": [
    "# non-overlapping   \n",
    "\n",
    "louvain_clusters = regulome_network_graph_undirected.community_multilevel(weights='PPV',\n",
    "                                                                          return_levels=False,\n",
    "                                                                          resolution=5)"
   ]
  }
 ],
 "metadata": {
  "kernelspec": {
   "display_name": "Python 3",
   "language": "python",
   "name": "python3"
  },
  "language_info": {
   "codemirror_mode": {
    "name": "ipython",
    "version": 3
   },
   "file_extension": ".py",
   "mimetype": "text/x-python",
   "name": "python",
   "nbconvert_exporter": "python",
   "pygments_lexer": "ipython3",
   "version": "3.9.20"
  }
 },
 "nbformat": 4,
 "nbformat_minor": 2
}
