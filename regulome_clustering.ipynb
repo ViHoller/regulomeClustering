{
 "cells": [
  {
   "cell_type": "code",
   "execution_count": null,
   "metadata": {},
   "outputs": [],
   "source": [
    "import pandas as pd\n",
    "import igraph as ig\n",
    "from ease import EASE\n",
    "import seaborn as sns\n",
    "import numpy as np\n",
    "import xmltodict"
   ]
  },
  {
   "cell_type": "code",
   "execution_count": null,
   "metadata": {},
   "outputs": [],
   "source": []
  },
  {
   "cell_type": "code",
   "execution_count": 40,
   "metadata": {},
   "outputs": [
    {
     "ename": "XMLSyntaxError",
     "evalue": "Start tag expected, '<' not found, line 1, column 1 (<string>, line 1)",
     "output_type": "error",
     "traceback": [
      "Traceback \u001b[0;36m(most recent call last)\u001b[0m:\n",
      "\u001b[0m  File \u001b[1;32m/home/vini/.conda/envs/regulome/lib/python3.13/site-packages/IPython/core/interactiveshell.py:3577\u001b[0m in \u001b[1;35mrun_code\u001b[0m\n    exec(code_obj, self.user_global_ns, self.user_ns)\u001b[0m\n",
      "\u001b[0m  Cell \u001b[1;32mIn[40], line 1\u001b[0m\n    tt = pd.read_xml(StringIO('./files/orphanet_gene_sets.xml'), encoding='ISO-8859-1')\u001b[0m\n",
      "\u001b[0m  File \u001b[1;32m/home/vini/.conda/envs/regulome/lib/python3.13/site-packages/pandas/io/xml.py:1160\u001b[0m in \u001b[1;35mread_xml\u001b[0m\n    return _parse(\u001b[0m\n",
      "\u001b[0m  File \u001b[1;32m/home/vini/.conda/envs/regulome/lib/python3.13/site-packages/pandas/io/xml.py:852\u001b[0m in \u001b[1;35m_parse\u001b[0m\n    data_dicts = p.parse_data()\u001b[0m\n",
      "\u001b[0m  File \u001b[1;32m/home/vini/.conda/envs/regulome/lib/python3.13/site-packages/pandas/io/xml.py:556\u001b[0m in \u001b[1;35mparse_data\u001b[0m\n    self.xml_doc = self._parse_doc(self.path_or_buffer)\u001b[0m\n",
      "\u001b[0m  File \u001b[1;32m/home/vini/.conda/envs/regulome/lib/python3.13/site-packages/pandas/io/xml.py:647\u001b[0m in \u001b[1;35m_parse_doc\u001b[0m\n    document = fromstring(\u001b[0m\n",
      "\u001b[0m  File \u001b[1;32msrc/lxml/etree.pyx:3306\u001b[0m in \u001b[1;35mlxml.etree.fromstring\u001b[0m\n",
      "\u001b[0m  File \u001b[1;32msrc/lxml/parser.pxi:1995\u001b[0m in \u001b[1;35mlxml.etree._parseMemoryDocument\u001b[0m\n",
      "\u001b[0m  File \u001b[1;32msrc/lxml/parser.pxi:1882\u001b[0m in \u001b[1;35mlxml.etree._parseDoc\u001b[0m\n",
      "\u001b[0m  File \u001b[1;32msrc/lxml/parser.pxi:1164\u001b[0m in \u001b[1;35mlxml.etree._BaseParser._parseDoc\u001b[0m\n",
      "\u001b[0m  File \u001b[1;32msrc/lxml/parser.pxi:633\u001b[0m in \u001b[1;35mlxml.etree._ParserContext._handleParseResultDoc\u001b[0m\n",
      "\u001b[0m  File \u001b[1;32msrc/lxml/parser.pxi:743\u001b[0m in \u001b[1;35mlxml.etree._handleParseResult\u001b[0m\n",
      "\u001b[0;36m  File \u001b[0;32msrc/lxml/parser.pxi:672\u001b[0;36m in \u001b[0;35mlxml.etree._raiseParseError\u001b[0;36m\n",
      "\u001b[0;36m  File \u001b[0;32m<string>:1\u001b[0;36m\u001b[0m\n\u001b[0;31mXMLSyntaxError\u001b[0m\u001b[0;31m:\u001b[0m Start tag expected, '<' not found, line 1, column 1\n"
     ]
    }
   ],
   "source": [
    "tt = pd.read_xml(StringIO('./files/orphanet_gene_sets.xml'), encoding='ISO-8859-1')"
   ]
  },
  {
   "cell_type": "code",
   "execution_count": null,
   "metadata": {},
   "outputs": [],
   "source": [
    "# load kegg pathways\n",
    "\n",
    "# load diasease gene sets\n",
    "# load ORPHANET\n",
    "with open('./files/orphanet_gene_sets.xml', 'rb') as orphanet_f:\n",
    "    orphanet_dict = xmltodict.parse(orphanet_f)\n",
    "\n"
   ]
  },
  {
   "cell_type": "code",
   "execution_count": null,
   "metadata": {},
   "outputs": [
    {
     "name": "stderr",
     "output_type": "stream",
     "text": [
      "/tmp/ipykernel_1944/321458049.py:7: FutureWarning: The 'limit' keyword in DataFrame.replace is deprecated and will be removed in a future version.\n",
      "  kegg_pathways = kegg_pathways.replace(to_replace=id_map, limit=0)\n"
     ]
    }
   ],
   "source": [
    "kegg_pathways = pd.read_csv(filepath_or_buffer='./files/kegg_hsa_pathways', names=['pathway', 'kegg_id'], sep='\\t') # 36381\n",
    "uniprot_ids = pd.read_csv(filepath_or_buffer='./files/uniprot_ids', names=['kegg_id', 'uniprot_id'], sep='\\t', skiprows=1) # 517 not matched!!!  8251 matched\n",
    "uniprot_ids = uniprot_ids[~(uniprot_ids['kegg_id'] == uniprot_ids['uniprot_id'])]\n",
    "uniprot_ids.shape\n",
    "id_map = uniprot_ids.set_index('kegg_id')['uniprot_id'].to_dict()\n",
    "len(id_map)\n",
    "kegg_pathways = kegg_pathways.replace(to_replace=id_map, limit=0)\n",
    "kegg_pathways.columns = ['pathway', 'uniprot_id']\n",
    "pathways_dict = kegg_pathways.groupby('pathway')['uniprot_id'].apply(list).to_dict()\n",
    "# kegg_pathways = \n",
    "# # !!!!! SHOULD I FILTER OUT NON UNIPROT ONE?? !!! - probably yes\n",
    "# KEGG ids point towards multiple uniprot accessions - how to handle multiple accessions\n",
    "# have to filter out non matched !!!!!!\n",
    "\n",
    "# number of kegg entries mapped to more than 1 uniprot entry\n",
    "uniprot_ids_counts = uniprot_ids['kegg_id'].value_counts()\n",
    "multi_mapped = uniprot_ids_counts.where(uniprot_ids_counts > 1).dropna().shape # 23 entries assigned more than 1 uniprot entry\n",
    "print(f\"number of kegg entries mapped to multiple uniprot entries: {multi_mapped}\")\n",
    "\n",
    "\n",
    "# number of kegg pathwways\n",
    "print(f\"Number of kegg pathways: {len(kegg_pathways['pathway'].unique())}\")"
   ]
  },
  {
   "cell_type": "code",
   "execution_count": 8,
   "metadata": {},
   "outputs": [],
   "source": [
    "# get network data from pickle  \n",
    "regulome_network_edges = pd.read_pickle(filepath_or_buffer='./files/human_regulome_filtered.gz', compression='infer')\n",
    "\n",
    "regulome_network_graph = ig.Graph.DataFrame(regulome_network_edges, directed=True, use_vids = False)\n",
    "regulome_network_graph_undirected = ig.Graph.DataFrame(regulome_network_edges, directed=False, use_vids = False)"
   ]
  },
  {
   "cell_type": "code",
   "execution_count": 207,
   "metadata": {},
   "outputs": [
    {
     "name": "stdout",
     "output_type": "stream",
     "text": [
      "Reslution: 0.0\n",
      "Reslution: 0.1\n",
      "Reslution: 0.2\n",
      "Reslution: 0.30000000000000004\n",
      "Reslution: 0.4\n",
      "Reslution: 0.5\n",
      "Reslution: 0.6000000000000001\n",
      "Reslution: 0.7000000000000001\n",
      "Reslution: 0.8\n",
      "Reslution: 0.9\n",
      "Reslution: 1.0\n",
      "Reslution: 1.1\n",
      "Reslution: 1.2000000000000002\n",
      "Reslution: 1.3\n",
      "Reslution: 1.4000000000000001\n",
      "Reslution: 1.5\n",
      "Reslution: 1.6\n",
      "Reslution: 1.7000000000000002\n",
      "Reslution: 1.8\n",
      "Reslution: 1.9000000000000001\n",
      "Reslution: 2.0\n",
      "Reslution: 2.1\n",
      "Reslution: 2.2\n",
      "Reslution: 2.3000000000000003\n",
      "Reslution: 2.4000000000000004\n",
      "Reslution: 2.5\n",
      "Reslution: 2.6\n",
      "Reslution: 2.7\n",
      "Reslution: 2.8000000000000003\n",
      "Reslution: 2.9000000000000004\n",
      "Reslution: 3.0\n",
      "Reslution: 3.1\n",
      "Reslution: 3.2\n",
      "Reslution: 3.3000000000000003\n",
      "Reslution: 3.4000000000000004\n",
      "Reslution: 3.5\n",
      "Reslution: 3.6\n",
      "Reslution: 3.7\n",
      "Reslution: 3.8000000000000003\n",
      "Reslution: 3.9000000000000004\n",
      "Reslution: 4.0\n",
      "Reslution: 4.1000000000000005\n",
      "Reslution: 4.2\n",
      "Reslution: 4.3\n",
      "Reslution: 4.4\n",
      "Reslution: 4.5\n",
      "Reslution: 4.6000000000000005\n",
      "Reslution: 4.7\n",
      "Reslution: 4.800000000000001\n",
      "Reslution: 4.9\n",
      "Reslution: 5.0\n",
      "Reslution: 5.1000000000000005\n",
      "Reslution: 5.2\n",
      "Reslution: 5.300000000000001\n",
      "Reslution: 5.4\n",
      "Reslution: 5.5\n",
      "Reslution: 5.6000000000000005\n",
      "Reslution: 5.7\n",
      "Reslution: 5.800000000000001\n",
      "Reslution: 5.9\n",
      "Reslution: 6.0\n",
      "Reslution: 6.1000000000000005\n",
      "Reslution: 6.2\n",
      "Reslution: 6.300000000000001\n",
      "Reslution: 6.4\n",
      "Reslution: 6.5\n",
      "Reslution: 6.6000000000000005\n",
      "Reslution: 6.7\n",
      "Reslution: 6.800000000000001\n",
      "Reslution: 6.9\n",
      "Reslution: 7.0\n",
      "Reslution: 7.1000000000000005\n",
      "Reslution: 7.2\n",
      "Reslution: 7.300000000000001\n",
      "Reslution: 7.4\n",
      "Reslution: 7.5\n",
      "Reslution: 7.6000000000000005\n",
      "Reslution: 7.7\n",
      "Reslution: 7.800000000000001\n",
      "Reslution: 7.9\n",
      "Reslution: 8.0\n",
      "Reslution: 8.1\n",
      "Reslution: 8.200000000000001\n",
      "Reslution: 8.3\n",
      "Reslution: 8.4\n",
      "Reslution: 8.5\n",
      "Reslution: 8.6\n",
      "Reslution: 8.700000000000001\n",
      "Reslution: 8.8\n",
      "Reslution: 8.9\n",
      "Reslution: 9.0\n",
      "Reslution: 9.1\n",
      "Reslution: 9.200000000000001\n",
      "Reslution: 9.3\n",
      "Reslution: 9.4\n",
      "Reslution: 9.5\n",
      "Reslution: 9.600000000000001\n",
      "Reslution: 9.700000000000001\n",
      "Reslution: 9.8\n",
      "Reslution: 9.9\n"
     ]
    }
   ],
   "source": [
    "# Investigate Leiden resolution\n",
    "std_output = pd.DataFrame({\n",
    "    'pathway_id': ['---'],\n",
    "    'Overlap': [0],\n",
    "    'Pvalue': [1],\n",
    "    'FDR': [1],\n",
    "    'FWER': [1] \n",
    "})\n",
    "cov = 4000 # what should I set this to??\n",
    "\n",
    "leiden_cluster_enrichment_dict = dict()\n",
    "for res in np.arange(0, 10, 0.1):\n",
    "    print(f\"Reslution: {res}\")\n",
    "    clusters = regulome_network_graph_undirected.community_multilevel(weights='PPV',\n",
    "                                                                          return_levels=False,\n",
    "                                                                          resolution=res)\n",
    "    \n",
    "    # clusters = regulome_network_graph_undirected.community_leiden(objective_function='modularity',\n",
    "    #                                                                 weights='PPV',\n",
    "    #                                                                 resolution=res,\n",
    "    #                                                                 beta=0.01,\n",
    "    #                                                                 n_iterations=3) # only few small clusters and 1 large one\n",
    "\n",
    "    enrichment_dict = dict()\n",
    "    for (cluster_n, cluster) in enumerate(clusters.subgraphs()):\n",
    "        \n",
    "        query = cluster.vs['name']\n",
    "        if len(query) > 1000:\n",
    "            continue # how do I handle these? Filter out based on size?\n",
    "        enrichment = EASE(query_set=query, genesets=pathways_dict, PT=cov)\n",
    "        enrichment_dict[cluster_n] = (enrichment, len(query), query) # maybe save this as a namedtuple with enrihcment and subgraph\n",
    "    leiden_cluster_enrichment_dict[res] = (enrichment_dict, len(clusters))"
   ]
  },
  {
   "cell_type": "code",
   "execution_count": 208,
   "metadata": {},
   "outputs": [],
   "source": [
    "leiden_cluster_hits = dict()\n",
    "\n",
    "threshold = 0.05\n",
    "for (res, cluster_enrichments) in leiden_cluster_enrichment_dict.items():\n",
    "    lowest_FDR_list = list()\n",
    "    cluster_enrichments = cluster_enrichments[0]\n",
    "    for _, enrichment in cluster_enrichments.items():\n",
    "        enrichment = enrichment[0]\n",
    "        # lowest_FDR = enrichment[enrichment.FDR == enrichment.FDR.idxmin()]\n",
    "        lowest_FDR = enrichment[enrichment.FDR < threshold]\n",
    "        if len(lowest_FDR) != 0:\n",
    "            lowest_FDR_list.append(lowest_FDR)\n",
    "    \n",
    "    if len(lowest_FDR_list) == 0:\n",
    "        leiden_cluster_hits[res] = pd.DataFrame({'pathway_id': [],\n",
    "                                                'Overlap': [],\n",
    "                                                'Pvalue': [],\n",
    "                                                'FDR': [],\n",
    "                                                'FWER': []})\n",
    "        continue\n",
    "    leiden_cluster_hits[res] = pd.concat(lowest_FDR_list)"
   ]
  },
  {
   "cell_type": "code",
   "execution_count": 209,
   "metadata": {},
   "outputs": [
    {
     "data": {
      "text/plain": [
       "(0.0, 10.0)"
      ]
     },
     "execution_count": 209,
     "metadata": {},
     "output_type": "execute_result"
    },
    {
     "data": {
      "image/png": "[encoded data removed]",
      "text/plain": [
       "<Figure size 640x480 with 1 Axes>"
      ]
     },
     "metadata": {},
     "output_type": "display_data"
    }
   ],
   "source": [
    "\n",
    "resolutions = leiden_cluster_hits.keys()\n",
    "num_pathways = list()\n",
    "for res, hits in leiden_cluster_hits.items():\n",
    "    num_pathways.append(len(hits.pathway_id.unique()))\n",
    "num_pathways\n",
    " \n",
    "plot = sns.lineplot(x=resolutions, y=num_pathways)\n",
    "plot.set_title(\"Number of enriched pathwys per resolution in Louvain\")\n",
    "plot.set_xlim([0,10])\n"
   ]
  },
  {
   "cell_type": "code",
   "execution_count": 210,
   "metadata": {},
   "outputs": [
    {
     "data": {
      "text/plain": [
       "<Axes: >"
      ]
     },
     "execution_count": 210,
     "metadata": {},
     "output_type": "execute_result"
    },
    {
     "data": {
      "image/png": "[encoded data removed]",
      "text/plain": [
       "<Figure size 640x480 with 1 Axes>"
      ]
     },
     "metadata": {},
     "output_type": "display_data"
    }
   ],
   "source": [
    "n_clusters = [n[1] for n in leiden_cluster_enrichment_dict.values()]\n",
    "\n",
    "sns.lineplot(x=n_clusters, y=num_pathways)"
   ]
  },
  {
   "cell_type": "code",
   "execution_count": null,
   "metadata": {},
   "outputs": [
    {
     "data": {
      "text/plain": [
       "<Axes: >"
      ]
     },
     "execution_count": 197,
     "metadata": {},
     "output_type": "execute_result"
    },
    {
     "data": {
      "image/png": "[encoded data removed]",
      "text/plain": [
       "<Figure size 640x480 with 1 Axes>"
      ]
     },
     "metadata": {},
     "output_type": "display_data"
    }
   ],
   "source": [
    "css = [p/c for (p,c) in zip(num_pathways, n_clusters)]\n",
    "sns.lineplot(x=resolutions, y = css) # looking at total number of clusters, not significant clusters\n",
    "# maybe filter out clusters - above/below threshold"
   ]
  },
  {
   "cell_type": "code",
   "execution_count": 208,
   "metadata": {},
   "outputs": [
    {
     "data": {
      "text/plain": [
       "1"
      ]
     },
     "execution_count": 208,
     "metadata": {},
     "output_type": "execute_result"
    }
   ],
   "source": [
    "len(set(kegg_pathways['uniprot_id']).intersection(set(louvain_clusters.subgraphs()[500].vs['name'])))\n"
   ]
  },
  {
   "cell_type": "code",
   "execution_count": 210,
   "metadata": {},
   "outputs": [
    {
     "data": {
      "text/html": [
       "<div>\n",
       "<style scoped>\n",
       "    .dataframe tbody tr th:only-of-type {\n",
       "        vertical-align: middle;\n",
       "    }\n",
       "\n",
       "    .dataframe tbody tr th {\n",
       "        vertical-align: top;\n",
       "    }\n",
       "\n",
       "    .dataframe thead th {\n",
       "        text-align: right;\n",
       "    }\n",
       "</style>\n",
       "<table border=\"1\" class=\"dataframe\">\n",
       "  <thead>\n",
       "    <tr style=\"text-align: right;\">\n",
       "      <th></th>\n",
       "      <th>pathway_id</th>\n",
       "      <th>Overlap</th>\n",
       "      <th>Pvalue</th>\n",
       "      <th>FDR</th>\n",
       "      <th>FWER</th>\n",
       "    </tr>\n",
       "  </thead>\n",
       "  <tbody>\n",
       "    <tr>\n",
       "      <th>194</th>\n",
       "      <td>path:hsa04630</td>\n",
       "      <td>7</td>\n",
       "      <td>0.005167</td>\n",
       "      <td>1.0</td>\n",
       "      <td>1.0</td>\n",
       "    </tr>\n",
       "  </tbody>\n",
       "</table>\n",
       "</div>"
      ],
      "text/plain": [
       "        pathway_id  Overlap    Pvalue  FDR  FWER\n",
       "194  path:hsa04630        7  0.005167  1.0   1.0"
      ]
     },
     "execution_count": 210,
     "metadata": {},
     "output_type": "execute_result"
    }
   ],
   "source": [
    "ease_try[ease_try['Pvalue'] < 0.01]"
   ]
  },
  {
   "cell_type": "code",
   "execution_count": null,
   "metadata": {},
   "outputs": [],
   "source": [
    "\n"
   ]
  },
  {
   "cell_type": "code",
   "execution_count": null,
   "metadata": {},
   "outputs": [],
   "source": [
    "infomap_clusters = regulome_network_graph.community_infomap(edge_weights='5:PPV', trials=10) # generaetd some small clusters and 1 large one"
   ]
  },
  {
   "cell_type": "code",
   "execution_count": null,
   "metadata": {},
   "outputs": [],
   "source": [
    "\n",
    "\n",
    "leiden_clusters = regulome_network_graph_undirected.community_leiden(objective_function='modularity',\n",
    "                                                          weights='5:PPV',\n",
    "                                                          resolution=12.0,\n",
    "                                                          beta=0.01,\n",
    "                                                          n_iterations=3) # only few small clusters and 1 large one"
   ]
  },
  {
   "cell_type": "code",
   "execution_count": 123,
   "metadata": {},
   "outputs": [],
   "source": [
    "# non-overlapping   \n",
    "\n",
    "louvain_clusters = regulome_network_graph_undirected.community_multilevel(weights='PPV',\n",
    "                                                                          return_levels=False,\n",
    "                                                                          resolution=5)"
   ]
  },
  {
   "cell_type": "code",
   "execution_count": 167,
   "metadata": {},
   "outputs": [
    {
     "data": {
      "text/plain": [
       "['P41235',\n",
       " 'O43704',\n",
       " 'Q9Y2Q3',\n",
       " 'Q15155',\n",
       " 'P32321',\n",
       " 'A7E2Y1',\n",
       " 'Q9Y623',\n",
       " 'Q53S58',\n",
       " 'Q9NVF9',\n",
       " 'Q9BXJ7',\n",
       " 'O00338',\n",
       " 'Q16540',\n",
       " 'P51570',\n",
       " 'O60256',\n",
       " 'P50225',\n",
       " 'Q92561',\n",
       " 'P13716',\n",
       " 'P10635',\n",
       " 'Q9H222',\n",
       " 'O95255',\n",
       " 'Q9H221',\n",
       " 'P10153']"
      ]
     },
     "execution_count": 167,
     "metadata": {},
     "output_type": "execute_result"
    }
   ],
   "source": [
    "cluster_5 = louvain_clusters.subgraphs()[200]\n",
    "cluster_5.vs['name']"
   ]
  }
 ],
 "metadata": {
  "kernelspec": {
   "display_name": "Python 3",
   "language": "python",
   "name": "python3"
  },
  "language_info": {
   "codemirror_mode": {
    "name": "ipython",
    "version": 3
   },
   "file_extension": ".py",
   "mimetype": "text/x-python",
   "name": "python",
   "nbconvert_exporter": "python",
   "pygments_lexer": "ipython3",
   "version": "3.13.0"
  }
 },
 "nbformat": 4,
 "nbformat_minor": 2
}
