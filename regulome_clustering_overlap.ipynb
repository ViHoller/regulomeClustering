{
 "cells": [
  {
   "cell_type": "markdown",
   "metadata": {},
   "source": [
    "investigate clustering methods which allow for overlap\n",
    "\n",
    "- CPM - uses too much RAM - got to 30GB and crashed vscode\n",
    "- SKNN + iterate infomap\n",
    "- SCP - have to make own implementation?\n",
    "- hierarchical"
   ]
  },
  {
   "cell_type": "code",
   "execution_count": 1,
   "metadata": {},
   "outputs": [],
   "source": [
    "import pandas as pd\n",
    "import networkx as nx\n",
    "import igraph as ig\n",
    "import seaborn as sns\n",
    "from ease import EASE\n",
    "\n",
    "path = \"./files/\""
   ]
  },
  {
   "cell_type": "code",
   "execution_count": 2,
   "metadata": {},
   "outputs": [],
   "source": [
    "human_regulome = pd.read_csv(path+\"human_regulome_pd.gz\")\n",
    "human_regulome_graph = ig.Graph.DataFrame(human_regulome, directed=False).to_networkx()"
   ]
  },
  {
   "cell_type": "code",
   "execution_count": 3,
   "metadata": {},
   "outputs": [
    {
     "ename": "KeyboardInterrupt",
     "evalue": "",
     "output_type": "error",
     "traceback": [
      "\u001b[0;31m---------------------------------------------------------------------------\u001b[0m",
      "\u001b[0;31mKeyboardInterrupt\u001b[0m                         Traceback (most recent call last)",
      "Cell \u001b[0;32mIn[3], line 2\u001b[0m\n\u001b[1;32m      1\u001b[0m cliques \u001b[38;5;241m=\u001b[39m nx\u001b[38;5;241m.\u001b[39mfind_cliques(human_regulome_graph)\n\u001b[0;32m----> 2\u001b[0m communities \u001b[38;5;241m=\u001b[39m \u001b[38;5;28;43mlist\u001b[39;49m\u001b[43m(\u001b[49m\u001b[43mnx\u001b[49m\u001b[38;5;241;43m.\u001b[39;49m\u001b[43mcommunity\u001b[49m\u001b[38;5;241;43m.\u001b[39;49m\u001b[43mk_clique_communities\u001b[49m\u001b[43m(\u001b[49m\u001b[43mhuman_regulome_graph\u001b[49m\u001b[43m,\u001b[49m\u001b[43m \u001b[49m\u001b[43mk\u001b[49m\u001b[38;5;241;43m=\u001b[39;49m\u001b[38;5;241;43m3\u001b[39;49m\u001b[43m)\u001b[49m\u001b[43m)\u001b[49m\n",
      "File \u001b[0;32m~/miniconda3/envs/regulome/lib/python3.13/site-packages/networkx/algorithms/community/kclique.py:51\u001b[0m, in \u001b[0;36mk_clique_communities\u001b[0;34m(G, k, cliques)\u001b[0m\n\u001b[1;32m     49\u001b[0m \u001b[38;5;28;01mif\u001b[39;00m cliques \u001b[38;5;129;01mis\u001b[39;00m \u001b[38;5;28;01mNone\u001b[39;00m:\n\u001b[1;32m     50\u001b[0m     cliques \u001b[38;5;241m=\u001b[39m nx\u001b[38;5;241m.\u001b[39mfind_cliques(G)\n\u001b[0;32m---> 51\u001b[0m cliques \u001b[38;5;241m=\u001b[39m [\u001b[38;5;28mfrozenset\u001b[39m(c) \u001b[38;5;28;01mfor\u001b[39;00m c \u001b[38;5;129;01min\u001b[39;00m cliques \u001b[38;5;28;01mif\u001b[39;00m \u001b[38;5;28mlen\u001b[39m(c) \u001b[38;5;241m>\u001b[39m\u001b[38;5;241m=\u001b[39m k]\n\u001b[1;32m     53\u001b[0m \u001b[38;5;66;03m# First index which nodes are in which cliques\u001b[39;00m\n\u001b[1;32m     54\u001b[0m membership_dict \u001b[38;5;241m=\u001b[39m defaultdict(\u001b[38;5;28mlist\u001b[39m)\n",
      "File \u001b[0;32m~/miniconda3/envs/regulome/lib/python3.13/site-packages/networkx/algorithms/clique.py:288\u001b[0m, in \u001b[0;36mfind_cliques\u001b[0;34m(G, nodes)\u001b[0m\n\u001b[1;32m    286\u001b[0m             subg \u001b[38;5;241m=\u001b[39m subg_q\n\u001b[1;32m    287\u001b[0m             cand \u001b[38;5;241m=\u001b[39m cand_q\n\u001b[0;32m--> 288\u001b[0m             u \u001b[38;5;241m=\u001b[39m \u001b[38;5;28;43mmax\u001b[39;49m\u001b[43m(\u001b[49m\u001b[43msubg\u001b[49m\u001b[43m,\u001b[49m\u001b[43m \u001b[49m\u001b[43mkey\u001b[49m\u001b[38;5;241;43m=\u001b[39;49m\u001b[38;5;28;43;01mlambda\u001b[39;49;00m\u001b[43m \u001b[49m\u001b[43mu\u001b[49m\u001b[43m:\u001b[49m\u001b[43m \u001b[49m\u001b[38;5;28;43mlen\u001b[39;49m\u001b[43m(\u001b[49m\u001b[43mcand\u001b[49m\u001b[43m \u001b[49m\u001b[38;5;241;43m&\u001b[39;49m\u001b[43m \u001b[49m\u001b[43madj\u001b[49m\u001b[43m[\u001b[49m\u001b[43mu\u001b[49m\u001b[43m]\u001b[49m\u001b[43m)\u001b[49m\u001b[43m)\u001b[49m\n\u001b[1;32m    289\u001b[0m             ext_u \u001b[38;5;241m=\u001b[39m cand \u001b[38;5;241m-\u001b[39m adj[u]\n\u001b[1;32m    290\u001b[0m \u001b[38;5;28;01melse\u001b[39;00m:\n",
      "File \u001b[0;32m~/miniconda3/envs/regulome/lib/python3.13/site-packages/networkx/algorithms/clique.py:288\u001b[0m, in \u001b[0;36mfind_cliques.<locals>.<lambda>\u001b[0;34m(u)\u001b[0m\n\u001b[1;32m    286\u001b[0m             subg \u001b[38;5;241m=\u001b[39m subg_q\n\u001b[1;32m    287\u001b[0m             cand \u001b[38;5;241m=\u001b[39m cand_q\n\u001b[0;32m--> 288\u001b[0m             u \u001b[38;5;241m=\u001b[39m \u001b[38;5;28mmax\u001b[39m(subg, key\u001b[38;5;241m=\u001b[39m\u001b[38;5;28;01mlambda\u001b[39;00m u: \u001b[38;5;28mlen\u001b[39m(cand \u001b[38;5;241m&\u001b[39m adj[u]))\n\u001b[1;32m    289\u001b[0m             ext_u \u001b[38;5;241m=\u001b[39m cand \u001b[38;5;241m-\u001b[39m adj[u]\n\u001b[1;32m    290\u001b[0m \u001b[38;5;28;01melse\u001b[39;00m:\n",
      "\u001b[0;31mKeyboardInterrupt\u001b[0m: "
     ]
    }
   ],
   "source": [
    "cliques = nx.find_cliques(human_regulome_graph)\n",
    "communities = list(nx.community.k_clique_communities(human_regulome_graph, k=3))"
   ]
  }
 ],
 "metadata": {
  "kernelspec": {
   "display_name": "regulome",
   "language": "python",
   "name": "python3"
  },
  "language_info": {
   "codemirror_mode": {
    "name": "ipython",
    "version": 3
   },
   "file_extension": ".py",
   "mimetype": "text/x-python",
   "name": "python",
   "nbconvert_exporter": "python",
   "pygments_lexer": "ipython3",
   "version": "3.13.0"
  }
 },
 "nbformat": 4,
 "nbformat_minor": 2
}
