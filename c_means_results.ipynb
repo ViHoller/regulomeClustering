{
 "cells": [
  {
   "cell_type": "markdown",
   "metadata": {},
   "source": [
    "Look at distances"
   ]
  },
  {
   "cell_type": "code",
   "execution_count": 1,
   "metadata": {},
   "outputs": [],
   "source": [
    "import igraph as ig\n",
    "import pandas as pd\n",
    "import numpy as np\n",
    "import seaborn as sns\n",
    "from compress_pickle import load, dump\n",
    "from statistics import mean, median\n",
    "from c_means_clustering import network_c_means\n",
    "from copy import deepcopy\n",
    "import itertools as it\n",
    "import matplotlib.pyplot as plt\n",
    "from math import log10\n",
    "from ease import EASE\n",
    "\n",
    "\n",
    "plt.style.use('bmh')\n",
    "\n",
    "def open_pickle(file):\n",
    "    with open(path+file, 'rb') as pickle_file:\n",
    "        return load(path=pickle_file, compression='infer')\n",
    "\n",
    "path = './files/'\n",
    "\n",
    "regulome_network_edges = pd.read_csv(filepath_or_buffer=path+'/human_regulome_pd.gz', compression='infer')\n",
    "regulome_network_edges = regulome_network_edges.astype({'ProteinAid': 'str', 'ProteinBid':'str'})\n",
    "\n",
    "regulome_graph = ig.Graph.DataFrame(regulome_network_edges, directed=False, use_vids=False)\n",
    "proteins = pd.concat([regulome_network_edges['ProteinAid'], regulome_network_edges['ProteinBid']]).unique()\n",
    "\n",
    "clusters_dict = open_pickle(\"c_means_leiden_clusters.gz\")\n",
    "clusters_dict = {cluster_id: cluster for (cluster_id, cluster) in clusters_dict.items() if len(cluster) > 10}\n",
    "\n",
    "msigdb_c3_tft_dict = open_pickle('msigdb_c3_tft_dict.pkl')\n",
    "results_99 = open_pickle(\"c_means_6iter_edge_99.gz\")\n",
    "results_98 = open_pickle(\"c_means_6iter_edge.gz\")"
   ]
  },
  {
   "cell_type": "code",
   "execution_count": 5,
   "metadata": {},
   "outputs": [],
   "source": [
    "protein_edges = pd.concat([regulome_network_edges['ProteinAid'], regulome_network_edges['ProteinBid']]).value_counts()\n",
    "most_connected_proteins = tuple(protein_edges.index[:5])\n",
    "least_connected_proteins = tuple(protein_edges.index[-5:])"
   ]
  },
  {
   "cell_type": "code",
   "execution_count": null,
   "metadata": {},
   "outputs": [],
   "source": [
    "from itertools import combinations\n",
    "\n",
    "iter1_clusters = results_99[0][3]\n",
    "clusters = [cluster for cluster in iter1_clusters.values() if len(clusters) if len(cluster) < 2000]\n",
    "print(len(clusters))\n",
    "\n",
    "overlap_coefficients = list()\n",
    "\n",
    "for set_A, set_B in combinations(clusters, 2):\n",
    "    ov_coeff = (len(set_A.intersection(set_B)))/(min(len(set_A), len(set_B)))\n",
    "    overlap_coefficients.append(ov_coeff)\n",
    "\n",
    "fig, ax = plt.subplots(1,1,figsize=[8,4], sharex=True)\n",
    "title = fig.suptitle(f\"Overlap coefficient of c-means clusters after 1 iteration (percentile = 99)\", fontsize=15, y=1)\n",
    "\n",
    "sns.histplot(overlap_coefficients, ax=ax)\n",
    "ax.set_xlabel(\"Overlap Coefficient\")\n",
    "# ax.set_ylim([0, 2000])\n",
    "\n",
    "\n",
    "plt.savefig('./images/c_means_overlap_coeff_edge_99_2.png', dpi=fig.dpi, bbox_inches='tight',bbox_extra_artists=[title])"
   ]
  },
  {
   "cell_type": "code",
   "execution_count": null,
   "metadata": {},
   "outputs": [],
   "source": [
    "gene_sets = pd.Series([set(gene_set) for gene_set in msigdb_c3_tft_dict.values()])  # some gene sets have no mapping aka have 0 genes\n",
    "overlap_coefficients = list()\n",
    "\n",
    "for set_A, set_B in combinations(gene_sets, 2):\n",
    "    if len(set_A) == 0 or len(set_B) == 0: # tft 3 sets with 0\n",
    "        continue\n",
    "    ov_coeff = (len(set_A.intersection(set_B)))/(min(len(set_A), len(set_B)))\n",
    "    overlap_coefficients.append(ov_coeff)\n",
    "\n",
    "fig, ax = plt.subplots(1,1,figsize=[8,4], sharex=True)\n",
    "title = fig.suptitle(f\"Overlap coefficient of MSigDB c3 tft gene sets\", fontsize=15, y=1)\n",
    "\n",
    "sns.histplot(overlap_coefficients, ax=ax)\n",
    "ax.set_xlabel(\"Overlap Coefficient\")\n",
    "ax.set_ylim([0, 10000])\n",
    "\n",
    "plt.savefig('./images/c_means_overlap_coeff_tft.png', dpi=fig.dpi, bbox_inches='tight',bbox_extra_artists=[title])"
   ]
  },
  {
   "cell_type": "code",
   "execution_count": 2,
   "metadata": {},
   "outputs": [],
   "source": [
    "def enrichment_ease(clusters, gene_set):\n",
    "\n",
    "    enrichment_dict = dict()\n",
    "    for (clusterid, cluster) in clusters.items():\n",
    "\n",
    "        enrichment = EASE(query_set=cluster, genesets=gene_set, PT= regulome_graph.vcount())\n",
    "        enrichment_dict[clusterid] = (enrichment, len(cluster), cluster) # maybe save this as a namedtuple with enrihcment and subgraph\n",
    "    return enrichment_dict\n",
    "\n",
    "threshold = 0.01\n",
    "\n",
    "def calculate_CCS(enrichment_dict, threshold=0.05):\n",
    "    enrichments = list()\n",
    "    for cluster in enrichment_dict.values():\n",
    "        cluster = cluster[0]\n",
    "        enriched = cluster[cluster['FDR'] < threshold]\n",
    "        if enriched.empty:\n",
    "            continue\n",
    "        enrichments.append(enriched[:][['pathway_id', 'FDR']])\n",
    "    n_enriched_clusters = len(enrichments)\n",
    "    enriched_df = pd.concat(enrichments)\n",
    "    avg_set_per_cluster = len(enriched_df) / n_enriched_clusters\n",
    "    avg_cluster_per_set = enriched_df.groupby('pathway_id')['pathway_id'].count().mean()\n",
    "    CCS = avg_set_per_cluster / avg_cluster_per_set\n",
    "\n",
    "    return CCS, n_enriched_clusters, avg_set_per_cluster, avg_cluster_per_set"
   ]
  },
  {
   "cell_type": "code",
   "execution_count": null,
   "metadata": {},
   "outputs": [],
   "source": [
    "filt_edges = [edge.index for edge in regulome_graph.es if edge['PPV'] > 0.9]\n",
    "regulome_graph_filt = regulome_graph.subgraph_edges(filt_edges, delete_vertices=True)\n",
    "print(regulome_graph_filt.vcount())"
   ]
  },
  {
   "cell_type": "code",
   "execution_count": null,
   "metadata": {},
   "outputs": [],
   "source": [
    "def leiden_clustering(graph, res, n_iter, beta=0.01):\n",
    "    return graph.community_leiden(objective_function='modularity',\n",
    "                            weights='PPV',\n",
    "                            resolution=res,\n",
    "                            beta=beta,\n",
    "                            n_iterations=n_iter)\n",
    "\n",
    "leiden_clusters = leiden_clustering(regulome_graph_filt, 11, 10)\n",
    "clusters_dict = {n : set(regulome_graph.vs[node]['name'] for node in cluster) for (n, cluster) in enumerate(leiden_clusters) if len(cluster) > 10}"
   ]
  },
  {
   "cell_type": "code",
   "execution_count": 4,
   "metadata": {},
   "outputs": [],
   "source": [
    "path_len_dict = open_pickle(\"path_lengths_dict.gz\")"
   ]
  },
  {
   "cell_type": "code",
   "execution_count": null,
   "metadata": {},
   "outputs": [],
   "source": [
    "from c_means_clustering import network_c_means\n",
    "\n",
    "\n",
    "results = network_c_means(regulome_graph_filt, deepcopy(clusters_dict), 2, n_iter=5, optimize=True, percentile=99, distance_measure='edge_ratio', path_lengths=None, cores=6)"
   ]
  },
  {
   "cell_type": "code",
   "execution_count": null,
   "metadata": {},
   "outputs": [],
   "source": [
    "from math import log10\n",
    "cluster_history = results[0][:]\n",
    "fig, axes = plt.subplots(1,len(cluster_history),figsize=[24,4], sharex=True)\n",
    "title = fig.suptitle(f\"Cluster distributions over 3 iterations of network c-means (percentile = 99)\", fontsize=15, y=1.05)\n",
    "\n",
    "for iter, (ax, clusters) in enumerate(zip(axes, cluster_history)):\n",
    "    result_sizes = [len(cluster) for cluster in clusters.values()]\n",
    "    sns.histplot(result_sizes, ax=ax)\n",
    "    ax.set_title(f\"Iteration: {iter}\")\n",
    "    ax.set_xlabel(\"Cluster Size\")\n",
    "    # ax.set_xlim((0, 1000))\n",
    "    if iter != 0:\n",
    "        ax.set(ylabel=None)\n",
    "    else:\n",
    "        ax.set_title(f\"Leiden Clusters\")\n"
   ]
  },
  {
   "cell_type": "code",
   "execution_count": 15,
   "metadata": {},
   "outputs": [],
   "source": [
    "CCS_df = pd.DataFrame()\n",
    "\n",
    "for iteration, clusters in enumerate(results[0][2:]):\n",
    "    clusters = {cluster_id: cluster  for cluster_id, cluster in clusters.items() if len(cluster) < 2000}\n",
    "    enrichment = enrichment_ease(clusters, msigdb_c3_tft_dict)\n",
    "    \n",
    "    CCS_values = calculate_CCS(enrichment)\n",
    "    CCS_df = pd.concat([CCS_df, pd.DataFrame({'iter': [iteration], 'n_enriched':[CCS_values[1]], 'avg_s/c': [CCS_values[2]], 'avg_c/s':[CCS_values[3]], 'CCS': [CCS_values[0]]})])"
   ]
  },
  {
   "cell_type": "code",
   "execution_count": null,
   "metadata": {},
   "outputs": [],
   "source": [
    "CCS_df"
   ]
  },
  {
   "cell_type": "code",
   "execution_count": null,
   "metadata": {},
   "outputs": [],
   "source": [
    "from itertools import combinations\n",
    "\n",
    "iter1_clusters = results[0][4]\n",
    "clusters = [cluster for cluster in iter1_clusters.values() if len(clusters) if len(cluster)]\n",
    "print(len(clusters))\n",
    "\n",
    "overlap_coefficients = list()\n",
    "\n",
    "for set_A, set_B in combinations(clusters, 2):\n",
    "    ov_coeff = (len(set_A.intersection(set_B)))/(min(len(set_A), len(set_B)))\n",
    "    overlap_coefficients.append(ov_coeff)\n",
    "\n",
    "fig, ax = plt.subplots(1,1,figsize=[8,4])\n",
    "title = fig.suptitle(f\"Overlap coefficient of c-means clusters after 1 iteration (percentile = 99)\", fontsize=15, y=1)\n",
    "\n",
    "sns.histplot(overlap_coefficients, ax=ax)\n",
    "ax.set_xlabel(\"Overlap Coefficient\")\n",
    "# ax.set_ylim([0, 2000])\n"
   ]
  }
 ],
 "metadata": {
  "kernelspec": {
   "display_name": "regulome",
   "language": "python",
   "name": "python3"
  },
  "language_info": {
   "codemirror_mode": {
    "name": "ipython",
    "version": 3
   },
   "file_extension": ".py",
   "mimetype": "text/x-python",
   "name": "python",
   "nbconvert_exporter": "python",
   "pygments_lexer": "ipython3",
   "version": "3.13.0"
  }
 },
 "nbformat": 4,
 "nbformat_minor": 2
}
