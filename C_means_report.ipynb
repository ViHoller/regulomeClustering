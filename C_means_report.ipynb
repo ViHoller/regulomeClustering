{
 "cells": [
  {
   "cell_type": "code",
   "execution_count": 1,
   "metadata": {},
   "outputs": [],
   "source": [
    "import igraph as ig\n",
    "import pandas as pd\n",
    "import numpy as np\n",
    "import seaborn as sns\n",
    "from compress_pickle import load, dump\n",
    "from statistics import mean, median\n",
    "from c_means_clustering import network_c_means\n",
    "from c_means_clustering_alt import network_c_means_alt\n",
    "from copy import deepcopy\n",
    "import itertools as it\n",
    "import matplotlib.pyplot as plt\n",
    "from math import log10\n",
    "from ease import EASE\n",
    "\n",
    "plt.style.use('bmh')\n",
    "\n",
    "path = './files/'\n",
    "\n",
    "def open_pickle(file):\n",
    "    with open(path+file, 'rb') as pickle_file:\n",
    "        return load(path=pickle_file, compression='infer')\n",
    "\n",
    "regulome_network_edges = pd.read_csv(filepath_or_buffer=path+'/human_regulome_pd.gz', compression='infer')\n",
    "regulome_network_edges = regulome_network_edges.astype({'ProteinAid': 'str', 'ProteinBid':'str'})\n",
    "\n",
    "regulome_graph = ig.Graph.DataFrame(regulome_network_edges, directed=False, use_vids=False)\n",
    "proteins = pd.concat([regulome_network_edges['ProteinAid'], regulome_network_edges['ProteinBid']]).unique()\n",
    "\n",
    "clusters_dict = open_pickle(\"c_means_leiden_clusters.gz\")\n",
    "msigdb_c3_tft_dict = open_pickle('msigdb_c3_tft_dict.pkl')"
   ]
  },
  {
   "cell_type": "code",
   "execution_count": null,
   "metadata": {},
   "outputs": [],
   "source": [
    "# def leiden_clustering(graph, res, n_iter, beta=0.05):\n",
    "#     return graph.community_leiden(objective_function='modularity',\n",
    "#                             weights='PPV',\n",
    "#                             resolution=res,\n",
    "#                             beta=beta,\n",
    "#                             n_iterations=n_iter)\n",
    "\n",
    "# leiden_clusters = leiden_clustering(regulome_graph, 8, 20)\n",
    "# clusters_dict = {n : set(regulome_graph.vs[node]['name'] for node in cluster) for (n, cluster) in enumerate(leiden_clusters) if len(cluster) > 5 and len(cluster) < 200}\n",
    "\n",
    "# with open('./files/c_means_leiden_clusters.gz', 'wb') as file:\n",
    "#     dump(clusters_dict, file, compression='infer')\n"
   ]
  },
  {
   "cell_type": "code",
   "execution_count": 2,
   "metadata": {},
   "outputs": [],
   "source": [
    "path_len_dict = open_pickle(\"path_lengths_dict.gz\")"
   ]
  },
  {
   "cell_type": "code",
   "execution_count": 3,
   "metadata": {},
   "outputs": [
    {
     "name": "stdout",
     "output_type": "stream",
     "text": [
      "<function edge_ratio at 0x7f00e4bc0e00>\n",
      "Iteration 1 of 5\n"
     ]
    },
    {
     "name": "stderr",
     "output_type": "stream",
     "text": [
      "100%|██████████| 15041/15041 [00:05<00:00, 2632.70it/s]\n"
     ]
    },
    {
     "name": "stdout",
     "output_type": "stream",
     "text": [
      "Updating Clusters: percentile 0.98\n",
      "Iteration 2 of 5\n"
     ]
    },
    {
     "name": "stderr",
     "output_type": "stream",
     "text": [
      "100%|██████████| 15041/15041 [00:37<00:00, 399.35it/s] \n"
     ]
    },
    {
     "name": "stdout",
     "output_type": "stream",
     "text": [
      "Updating Clusters: percentile 0.98\n",
      "Iteration 3 of 5\n"
     ]
    },
    {
     "name": "stderr",
     "output_type": "stream",
     "text": [
      "  0%|          | 0/15041 [00:00<?, ?it/s]"
     ]
    },
    {
     "ename": "",
     "evalue": "",
     "output_type": "error",
     "traceback": [
      "\u001b[1;31mThe Kernel crashed while executing code in the current cell or a previous cell. \n",
      "\u001b[1;31mPlease review the code in the cell(s) to identify a possible cause of the failure. \n",
      "\u001b[1;31mClick <a href='https://aka.ms/vscodeJupyterKernelCrash'>here</a> for more info. \n",
      "\u001b[1;31mView Jupyter <a href='command:jupyter.viewOutput'>log</a> for further details."
     ]
    }
   ],
   "source": [
    "for distance_metric in ['edge_ratio', 'path_len']:\n",
    "    for perc in [0.98, 0.99, 0.999]:\n",
    "        if distance_metric == 'path_len':\n",
    "            path_len = path_len_dict\n",
    "        else:\n",
    "            pat_len = None\n",
    "        results = network_c_means(regulome_graph, deepcopy(clusters_dict), 2, n_iter=5, optimize=True, percentile=perc, distance_measure=distance_metric, path_lengths=None, cores=8)\n",
    "\n",
    "        with open(path+f\"c_means_5iter_{distance_metric}_{int(perc*1000)}.gz\") as file:\n",
    "            dump(results, file, compresion='infer')"
   ]
  }
 ],
 "metadata": {
  "kernelspec": {
   "display_name": "regulome",
   "language": "python",
   "name": "python3"
  },
  "language_info": {
   "codemirror_mode": {
    "name": "ipython",
    "version": 3
   },
   "file_extension": ".py",
   "mimetype": "text/x-python",
   "name": "python",
   "nbconvert_exporter": "python",
   "pygments_lexer": "ipython3",
   "version": "3.13.0"
  }
 },
 "nbformat": 4,
 "nbformat_minor": 2
}
