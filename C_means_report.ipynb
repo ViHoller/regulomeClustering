{
 "cells": [
  {
   "cell_type": "code",
   "execution_count": 1,
   "metadata": {},
   "outputs": [],
   "source": [
    "import igraph as ig\n",
    "import pandas as pd\n",
    "import numpy as np\n",
    "import seaborn as sns\n",
    "from compress_pickle import load, dump\n",
    "from statistics import mean, median\n",
    "from c_means_clustering import network_c_means\n",
    "from c_means_clustering_alt import network_c_means_alt\n",
    "from copy import deepcopy\n",
    "import itertools as it\n",
    "import matplotlib.pyplot as plt\n",
    "from math import log10\n",
    "from ease import EASE\n",
    "\n",
    "plt.style.use('bmh')\n",
    "\n",
    "path = './files/'\n",
    "\n",
    "def open_pickle(file):\n",
    "    with open(path+file, 'rb') as pickle_file:\n",
    "        return load(path=pickle_file, compression='infer')\n",
    "\n",
    "regulome_network_edges = pd.read_csv(filepath_or_buffer=path+'/human_regulome_pd.gz', compression='infer')\n",
    "regulome_network_edges = regulome_network_edges.astype({'ProteinAid': 'str', 'ProteinBid':'str'})\n",
    "\n",
    "regulome_graph = ig.Graph.DataFrame(regulome_network_edges, directed=False, use_vids=False)\n",
    "proteins = pd.concat([regulome_network_edges['ProteinAid'], regulome_network_edges['ProteinBid']]).unique()\n",
    "\n",
    "clusters_dict = open_pickle(\"c_means_leiden_clusters.gz\")\n",
    "msigdb_c3_tft_dict = open_pickle('msigdb_c3_tft_dict.pkl')\n",
    "msigdb_c3_tft_dict = {setid:genes for setid, genes in msigdb_c3_tft_dict.items() if len(genes) >= 5}"
   ]
  },
  {
   "cell_type": "code",
   "execution_count": null,
   "metadata": {},
   "outputs": [],
   "source": [
    "# def leiden_clustering(graph, res, n_iter, beta=0.05):\n",
    "#     return graph.community_leiden(objective_function='modularity',\n",
    "#                             weights='PPV',\n",
    "#                             resolution=res,\n",
    "#                             beta=beta,\n",
    "#                             n_iterations=n_iter)\n",
    "\n",
    "# leiden_clusters = leiden_clustering(regulome_graph, 8, 20)\n",
    "# clusters_dict = {n : set(regulome_graph.vs[node]['name'] for node in cluster) for (n, cluster) in enumerate(leiden_clusters) if len(cluster) > 5 and len(cluster) < 200}\n",
    "\n",
    "# with open('./files/c_means_leiden_clusters.gz', 'wb') as file:\n",
    "#     dump(clusters_dict, file, compression='infer')\n"
   ]
  },
  {
   "cell_type": "code",
   "execution_count": 14,
   "metadata": {},
   "outputs": [],
   "source": [
    "path_len_dict = open_pickle(\"path_lengths_dict.gz\")"
   ]
  },
  {
   "cell_type": "code",
   "execution_count": 15,
   "metadata": {},
   "outputs": [
    {
     "name": "stdout",
     "output_type": "stream",
     "text": [
      "<function path_length_dist at 0x7fc0c47f6980>\n",
      "Iteration 1 of 1\n"
     ]
    },
    {
     "name": "stderr",
     "output_type": "stream",
     "text": [
      "\n",
      "\u001b[A"
     ]
    },
    {
     "name": "stderr",
     "output_type": "stream",
     "text": [
      "\n",
      "\u001b[A\n",
      "\u001b[A\n",
      "\u001b[A\n",
      "\u001b[A\n",
      "\u001b[A\n",
      "\u001b[A\n",
      "\u001b[A\n",
      "\u001b[A\n",
      "\u001b[A\n",
      "\u001b[A\n",
      "\u001b[A\n",
      "\u001b[A\n",
      "\u001b[A\n",
      "\u001b[A\n",
      "\u001b[A\n",
      "\u001b[A\n",
      "\u001b[A\n",
      "\u001b[A\n",
      "\u001b[A\n",
      "\u001b[A\n",
      "\u001b[A\n",
      "\u001b[A\n",
      "\u001b[A\n",
      "\u001b[A\n",
      "\u001b[A\n",
      "\u001b[A\n",
      "\u001b[A\n",
      "\u001b[A\n",
      "\u001b[A\n",
      "\u001b[A\n",
      "\u001b[A\n",
      "\u001b[A\n",
      "\u001b[A\n",
      "\u001b[A\n",
      "\u001b[A\n",
      "\u001b[A\n",
      "\u001b[A\n",
      "\u001b[A\n",
      "\u001b[A\n",
      "\u001b[A\n",
      "\u001b[A\n",
      "\u001b[A\n",
      "\u001b[A\n",
      "\u001b[A\n",
      "\u001b[A\n",
      "\u001b[A\n",
      "\u001b[A\n",
      "\u001b[A\n",
      "\u001b[A\n",
      "\u001b[A\n",
      "\u001b[A\n",
      "\u001b[A\n",
      "\u001b[A\n",
      "\u001b[A\n",
      "\u001b[A\n",
      "\u001b[A\n",
      "\u001b[A\n",
      "\u001b[A\n",
      "100%|██████████| 15041/15041 [00:51<00:00, 293.87it/s]\n"
     ]
    },
    {
     "name": "stdout",
     "output_type": "stream",
     "text": [
      "Updating Clusters: percentile 99.9\n"
     ]
    }
   ],
   "source": [
    "for distance_metric in ['path_len']:\n",
    "    for perc in [99.9]:\n",
    "        if distance_metric == 'path_len':\n",
    "            path_len = path_len_dict\n",
    "        else:\n",
    "            path_len = None\n",
    "        results = network_c_means(regulome_graph, deepcopy(clusters_dict), 2, n_iter=1, optimize=True, percentile=perc, distance_measure=distance_metric, path_lengths=path_len, cores=8)\n",
    "\n",
    "        with open(path+f\"c_means_1iter_{distance_metric}_{int(perc*100)}.gz\", 'wb') as file:\n",
    "            dump(results, file, compression='infer')"
   ]
  },
  {
   "cell_type": "code",
   "execution_count": 20,
   "metadata": {},
   "outputs": [],
   "source": [
    "results_pl_98 = open_pickle(\"c_means_1iter_path_len_980.gz\")\n",
    "results_pl_99 = open_pickle(\"c_means_1iter_path_len_990.gz\")\n",
    "results_pl_999 = open_pickle(\"c_means_1iter_path_len_9990.gz\")\n",
    "\n",
    "results_er_98 = open_pickle(\"c_means_1iter_edge_ratio_980.gz\")\n",
    "results_er_99 = open_pickle(\"c_means_1iter_edge_ratio_990.gz\")\n",
    "results_er_999 = open_pickle(\"c_means_1iter_edge_ratio_999.gz\")\n",
    "results_er_9995 = open_pickle(\"c_means_1iter_edge_ratio_9995.gz\")\n",
    "results_er_9999 = open_pickle(\"c_means_1iter_edge_ratio_9999.gz\")\n",
    "\n",
    "results_dict = {\n",
    "    ('leiden', 0): results_pl_98[0][0],\n",
    "    ('pl', 0.98): results_pl_98[0][1],\n",
    "    ('pl', 0.99): results_pl_99[0][1],\n",
    "    ('pl', 0.999): results_pl_999[0][1],\n",
    "    ('er', 0.98): results_er_98[0][1],\n",
    "    ('er', 0.99): results_er_99[0][1],\n",
    "    ('er', 0.999): results_er_999[0][1],\n",
    "    ('er', 0.9995): results_er_9995[0][1],\n",
    "    ('er', 0.9999): results_er_9999[0][1],\n",
    "}"
   ]
  },
  {
   "cell_type": "code",
   "execution_count": 21,
   "metadata": {},
   "outputs": [],
   "source": [
    "def calc_jaccard_index(clusters):\n",
    "    overlap_coefficients = list()\n",
    "\n",
    "    for set_A, set_B in it.combinations(clusters, 2):\n",
    "        ov_coeff = (len(set_A.intersection(set_B)))/(len(set_A.union(set_B)))\n",
    "        overlap_coefficients.append(ov_coeff)\n",
    "    return overlap_coefficients\n",
    "\n",
    "def enrichment_ease(clusters, gene_set):\n",
    "    enrichment_dict = dict()\n",
    "    for (clusterid, cluster) in clusters.items():\n",
    "        enrichment = EASE(query_set=cluster, genesets=gene_set, PT= regulome_graph.vcount())\n",
    "        enrichment_dict[clusterid] = (enrichment, len(cluster), cluster) # maybe save this as a namedtuple with enrihcment and subgraph\n",
    "    return enrichment_dict\n",
    "\n",
    "\n",
    "def calculate_CCS(enrichment_dict, threshold=0.05):\n",
    "    enrichments = list()\n",
    "    for cluster in enrichment_dict.values():\n",
    "        cluster = cluster[0]\n",
    "        enriched = cluster[cluster['FDR'] < threshold]\n",
    "        if enriched.empty:\n",
    "            continue\n",
    "        enrichments.append(enriched[:][['pathway_id', 'FDR']])\n",
    "    n_enriched_clusters = len(enrichments)\n",
    "    enriched_df = pd.concat(enrichments)\n",
    "    avg_set_per_cluster = len(enriched_df) / n_enriched_clusters\n",
    "    avg_cluster_per_set = enriched_df.groupby('pathway_id')['pathway_id'].count().mean()\n",
    "    CCS = avg_set_per_cluster / avg_cluster_per_set\n",
    "\n",
    "    return CCS, n_enriched_clusters, avg_set_per_cluster, avg_cluster_per_set"
   ]
  },
  {
   "cell_type": "code",
   "execution_count": 39,
   "metadata": {},
   "outputs": [
    {
     "data": {
      "text/plain": [
       "1112"
      ]
     },
     "execution_count": 39,
     "metadata": {},
     "output_type": "execute_result"
    }
   ],
   "source": [
    "len(msigdb_c3_tft_dict)"
   ]
  },
  {
   "cell_type": "code",
   "execution_count": 64,
   "metadata": {},
   "outputs": [
    {
     "data": {
      "text/plain": [
       "0.013383749178390438"
      ]
     },
     "execution_count": 64,
     "metadata": {},
     "output_type": "execute_result"
    }
   ],
   "source": [
    "msigdb_c3_tft_jaccard = calc_jaccard_index([set(gene_set) for gene_set in msigdb_c3_tft_dict.values()])\n",
    "mean(msigdb_c3_tft_jaccard)"
   ]
  },
  {
   "cell_type": "code",
   "execution_count": 22,
   "metadata": {},
   "outputs": [
    {
     "name": "stdout",
     "output_type": "stream",
     "text": [
      "('leiden', 0), 622\n"
     ]
    },
    {
     "name": "stderr",
     "output_type": "stream",
     "text": [
      "  5%|▌         | 783/15041 [18:54<5:44:24,  1.45s/it]\n",
      "  0%|          | 0/15041 [07:46<?, ?it/s]\n"
     ]
    },
    {
     "name": "stdout",
     "output_type": "stream",
     "text": [
      "('pl', 0.98), 457\n",
      "('pl', 0.99), 502\n",
      "('pl', 0.999), 605\n",
      "('er', 0.98), 464\n",
      "('er', 0.99), 507\n",
      "('er', 0.999), 608\n",
      "('er', 0.9995), 608\n",
      "('er', 0.9999), 608\n"
     ]
    }
   ],
   "source": [
    "CCS_df = pd.DataFrame()\n",
    "\n",
    "\n",
    "for params, clusters in results_dict.items():\n",
    "    clusters = {clusterid:cluster for clusterid, cluster in clusters.items() if len(cluster) >= 5 and len(cluster) <= 200}\n",
    "    print(f\"{params}, {len(clusters)}\")\n",
    "\n",
    "    avg_jaccard_index = mean(calc_jaccard_index(clusters.values()))\n",
    "\n",
    "    enrichment = enrichment_ease(clusters, msigdb_c3_tft_dict)\n",
    "    CCS_values = calculate_CCS(enrichment, threshold=0.05)\n",
    "\n",
    "    cluster_sizes = [len(cluster) for cluster in clusters.values()]\n",
    "    CCS_df = pd.concat([CCS_df, \n",
    "                        pd.DataFrame({'d': params[0],\n",
    "                                      'percen': params[1],\n",
    "                                      'n_clusters': [len(clusters)],\n",
    "                                      'avg_size': [mean(cluster_sizes)],\n",
    "                                      'median_size': [median(cluster_sizes)],\n",
    "                                      'avg_jaccard': [avg_jaccard_index],\n",
    "                                      'n_enriched':[CCS_values[1]],\n",
    "                                      '%_enriched': [(CCS_values[1]/len(clusters))*100],\n",
    "                                      'avg_s/c': [CCS_values[2]],\n",
    "                                      'avg_c/s':[CCS_values[3]],\n",
    "                                      'Error': [CCS_values[2]+CCS_values[3]-2],\n",
    "                                      'CCS': [CCS_values[0]]})])\n"
   ]
  },
  {
   "cell_type": "code",
   "execution_count": 25,
   "metadata": {},
   "outputs": [
    {
     "data": {
      "text/html": [
       "<div>\n",
       "<style scoped>\n",
       "    .dataframe tbody tr th:only-of-type {\n",
       "        vertical-align: middle;\n",
       "    }\n",
       "\n",
       "    .dataframe tbody tr th {\n",
       "        vertical-align: top;\n",
       "    }\n",
       "\n",
       "    .dataframe thead th {\n",
       "        text-align: right;\n",
       "    }\n",
       "</style>\n",
       "<table border=\"1\" class=\"dataframe\">\n",
       "  <thead>\n",
       "    <tr style=\"text-align: right;\">\n",
       "      <th></th>\n",
       "      <th>d</th>\n",
       "      <th>percen</th>\n",
       "      <th>n_clusters</th>\n",
       "      <th>avg_size</th>\n",
       "      <th>median_size</th>\n",
       "      <th>avg_jaccard</th>\n",
       "      <th>n_enriched</th>\n",
       "      <th>%_enriched</th>\n",
       "      <th>avg_s/c</th>\n",
       "      <th>avg_c/s</th>\n",
       "      <th>Error</th>\n",
       "      <th>CCS</th>\n",
       "    </tr>\n",
       "  </thead>\n",
       "  <tbody>\n",
       "    <tr>\n",
       "      <th>0</th>\n",
       "      <td>leiden</td>\n",
       "      <td>0.0000</td>\n",
       "      <td>622</td>\n",
       "      <td>23.393891</td>\n",
       "      <td>18.0</td>\n",
       "      <td>0.000000</td>\n",
       "      <td>60</td>\n",
       "      <td>9.646302</td>\n",
       "      <td>3.766667</td>\n",
       "      <td>1.386503</td>\n",
       "      <td>3.153170</td>\n",
       "      <td>2.716667</td>\n",
       "    </tr>\n",
       "    <tr>\n",
       "      <th>0</th>\n",
       "      <td>pl</td>\n",
       "      <td>0.9800</td>\n",
       "      <td>457</td>\n",
       "      <td>49.339168</td>\n",
       "      <td>35.0</td>\n",
       "      <td>0.000772</td>\n",
       "      <td>57</td>\n",
       "      <td>12.472648</td>\n",
       "      <td>5.456140</td>\n",
       "      <td>1.517073</td>\n",
       "      <td>4.973214</td>\n",
       "      <td>3.596491</td>\n",
       "    </tr>\n",
       "    <tr>\n",
       "      <th>0</th>\n",
       "      <td>pl</td>\n",
       "      <td>0.9900</td>\n",
       "      <td>502</td>\n",
       "      <td>45.000000</td>\n",
       "      <td>31.0</td>\n",
       "      <td>0.000643</td>\n",
       "      <td>58</td>\n",
       "      <td>11.553785</td>\n",
       "      <td>4.068966</td>\n",
       "      <td>1.465839</td>\n",
       "      <td>3.534804</td>\n",
       "      <td>2.775862</td>\n",
       "    </tr>\n",
       "    <tr>\n",
       "      <th>0</th>\n",
       "      <td>pl</td>\n",
       "      <td>0.9990</td>\n",
       "      <td>605</td>\n",
       "      <td>34.297521</td>\n",
       "      <td>24.0</td>\n",
       "      <td>0.000323</td>\n",
       "      <td>61</td>\n",
       "      <td>10.082645</td>\n",
       "      <td>3.786885</td>\n",
       "      <td>1.434783</td>\n",
       "      <td>3.221668</td>\n",
       "      <td>2.639344</td>\n",
       "    </tr>\n",
       "    <tr>\n",
       "      <th>0</th>\n",
       "      <td>er</td>\n",
       "      <td>0.9800</td>\n",
       "      <td>464</td>\n",
       "      <td>53.359914</td>\n",
       "      <td>34.0</td>\n",
       "      <td>0.002613</td>\n",
       "      <td>120</td>\n",
       "      <td>25.862069</td>\n",
       "      <td>8.650000</td>\n",
       "      <td>2.369863</td>\n",
       "      <td>9.019863</td>\n",
       "      <td>3.650000</td>\n",
       "    </tr>\n",
       "    <tr>\n",
       "      <th>0</th>\n",
       "      <td>er</td>\n",
       "      <td>0.9900</td>\n",
       "      <td>507</td>\n",
       "      <td>43.968442</td>\n",
       "      <td>26.0</td>\n",
       "      <td>0.001184</td>\n",
       "      <td>112</td>\n",
       "      <td>22.090730</td>\n",
       "      <td>7.776786</td>\n",
       "      <td>2.155941</td>\n",
       "      <td>7.932726</td>\n",
       "      <td>3.607143</td>\n",
       "    </tr>\n",
       "    <tr>\n",
       "      <th>0</th>\n",
       "      <td>er</td>\n",
       "      <td>0.9990</td>\n",
       "      <td>608</td>\n",
       "      <td>29.567434</td>\n",
       "      <td>19.5</td>\n",
       "      <td>0.000243</td>\n",
       "      <td>73</td>\n",
       "      <td>12.006579</td>\n",
       "      <td>4.808219</td>\n",
       "      <td>1.632558</td>\n",
       "      <td>4.440777</td>\n",
       "      <td>2.945205</td>\n",
       "    </tr>\n",
       "    <tr>\n",
       "      <th>0</th>\n",
       "      <td>er</td>\n",
       "      <td>0.9995</td>\n",
       "      <td>608</td>\n",
       "      <td>29.567434</td>\n",
       "      <td>19.5</td>\n",
       "      <td>0.000243</td>\n",
       "      <td>73</td>\n",
       "      <td>12.006579</td>\n",
       "      <td>4.808219</td>\n",
       "      <td>1.632558</td>\n",
       "      <td>4.440777</td>\n",
       "      <td>2.945205</td>\n",
       "    </tr>\n",
       "    <tr>\n",
       "      <th>0</th>\n",
       "      <td>er</td>\n",
       "      <td>0.9999</td>\n",
       "      <td>608</td>\n",
       "      <td>29.567434</td>\n",
       "      <td>19.5</td>\n",
       "      <td>0.000243</td>\n",
       "      <td>73</td>\n",
       "      <td>12.006579</td>\n",
       "      <td>4.808219</td>\n",
       "      <td>1.632558</td>\n",
       "      <td>4.440777</td>\n",
       "      <td>2.945205</td>\n",
       "    </tr>\n",
       "  </tbody>\n",
       "</table>\n",
       "</div>"
      ],
      "text/plain": [
       "        d  percen  n_clusters   avg_size  median_size  avg_jaccard  \\\n",
       "0  leiden  0.0000         622  23.393891         18.0     0.000000   \n",
       "0      pl  0.9800         457  49.339168         35.0     0.000772   \n",
       "0      pl  0.9900         502  45.000000         31.0     0.000643   \n",
       "0      pl  0.9990         605  34.297521         24.0     0.000323   \n",
       "0      er  0.9800         464  53.359914         34.0     0.002613   \n",
       "0      er  0.9900         507  43.968442         26.0     0.001184   \n",
       "0      er  0.9990         608  29.567434         19.5     0.000243   \n",
       "0      er  0.9995         608  29.567434         19.5     0.000243   \n",
       "0      er  0.9999         608  29.567434         19.5     0.000243   \n",
       "\n",
       "   n_enriched  %_enriched   avg_s/c   avg_c/s     Error       CCS  \n",
       "0          60    9.646302  3.766667  1.386503  3.153170  2.716667  \n",
       "0          57   12.472648  5.456140  1.517073  4.973214  3.596491  \n",
       "0          58   11.553785  4.068966  1.465839  3.534804  2.775862  \n",
       "0          61   10.082645  3.786885  1.434783  3.221668  2.639344  \n",
       "0         120   25.862069  8.650000  2.369863  9.019863  3.650000  \n",
       "0         112   22.090730  7.776786  2.155941  7.932726  3.607143  \n",
       "0          73   12.006579  4.808219  1.632558  4.440777  2.945205  \n",
       "0          73   12.006579  4.808219  1.632558  4.440777  2.945205  \n",
       "0          73   12.006579  4.808219  1.632558  4.440777  2.945205  "
      ]
     },
     "execution_count": 25,
     "metadata": {},
     "output_type": "execute_result"
    }
   ],
   "source": [
    "CCS_df"
   ]
  },
  {
   "cell_type": "markdown",
   "metadata": {},
   "source": []
  },
  {
   "cell_type": "code",
   "execution_count": 38,
   "metadata": {},
   "outputs": [
    {
     "name": "stdout",
     "output_type": "stream",
     "text": [
      "d                     pl\n",
      "percen              0.98\n",
      "n_clusters           457\n",
      "avg_size       49.339168\n",
      "median_size         35.0\n",
      "avg_jaccard     0.000772\n",
      "n_enriched            57\n",
      "%_enriched     12.472648\n",
      "avg_s/c          5.45614\n",
      "avg_c/s         1.517073\n",
      "Error           4.973214\n",
      "CCS             3.596491\n",
      "Name: 0, dtype: object\n",
      "d                     pl\n",
      "percen              0.99\n",
      "n_clusters           502\n",
      "avg_size            45.0\n",
      "median_size         31.0\n",
      "avg_jaccard     0.000643\n",
      "n_enriched            58\n",
      "%_enriched     11.553785\n",
      "avg_s/c         4.068966\n",
      "avg_c/s         1.465839\n",
      "Error           3.534804\n",
      "CCS             2.775862\n",
      "Name: 0, dtype: object\n",
      "d                     pl\n",
      "percen             0.999\n",
      "n_clusters           605\n",
      "avg_size       34.297521\n",
      "median_size         24.0\n",
      "avg_jaccard     0.000323\n",
      "n_enriched            61\n",
      "%_enriched     10.082645\n",
      "avg_s/c         3.786885\n",
      "avg_c/s         1.434783\n",
      "Error           3.221668\n",
      "CCS             2.639344\n",
      "Name: 0, dtype: object\n"
     ]
    }
   ],
   "source": [
    "for i in CCS_df[CCS_df['d'] == \"pl\"].iterrows():\n",
    "    print(i[1])"
   ]
  },
  {
   "cell_type": "code",
   "execution_count": 43,
   "metadata": {},
   "outputs": [
    {
     "data": {
      "text/plain": [
       "[<matplotlib.lines.Line2D at 0x7fc19caf82d0>]"
      ]
     },
     "execution_count": 43,
     "metadata": {},
     "output_type": "execute_result"
    },
    {
     "data": {
      "image/png": "[encoded data removed]",
      "text/plain": [
       "<Figure size 1200x400 with 1 Axes>"
      ]
     },
     "metadata": {},
     "output_type": "display_data"
    }
   ],
   "source": [
    "CCS_plot_pl = {row[1]['percen']:row[1]['CCS'] for row in CCS_df[CCS_df['d'] == \"pl\"].iterrows()}\n",
    "\n",
    "fig, (ax1) = plt.subplots(1,1, figsize=(12,4))\n",
    "\n",
    "ax1.plot(CCS_plot_pl.keys(), CCS_plot_pl.values())"
   ]
  }
 ],
 "metadata": {
  "kernelspec": {
   "display_name": "regulome",
   "language": "python",
   "name": "python3"
  },
  "language_info": {
   "codemirror_mode": {
    "name": "ipython",
    "version": 3
   },
   "file_extension": ".py",
   "mimetype": "text/x-python",
   "name": "python",
   "nbconvert_exporter": "python",
   "pygments_lexer": "ipython3",
   "version": "3.13.0"
  }
 },
 "nbformat": 4,
 "nbformat_minor": 2
}
