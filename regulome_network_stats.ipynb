{
 "cells": [
  {
   "cell_type": "code",
   "execution_count": 4,
   "metadata": {},
   "outputs": [],
   "source": [
    "# import pacakges\n",
    "import pandas as pd\n",
    "import igraph as ig\n",
    "import seaborn as sns\n",
    "from statistics import mean, median, stdev\n",
    "from matplotlib.pyplot import subplots\n",
    "import pickle\n",
    "import itertools"
   ]
  },
  {
   "cell_type": "code",
   "execution_count": 5,
   "metadata": {},
   "outputs": [],
   "source": [
    "# import edge list ---- USE CYTOSCAPE TO VISUALIZE OR GRAPHISTRY\n",
    "regulome_network = pd.read_csv(\"./files/humanRegulomeNetwork\", delimiter=\"\\t\")\n",
    "regulome_network_edges = regulome_network[['0:ProteinA', '1:ProteinB', '5:PPV', '18:LLR_GRG']]\n",
    "\n",
    "# Create network objeect in iGraph\n",
    "regulome_network_graph = ig.Graph.DataFrame(regulome_network_edges, directed=True, use_vids = False)"
   ]
  },
  {
   "cell_type": "markdown",
   "metadata": {},
   "source": [
    "**Network Properties**"
   ]
  },
  {
   "cell_type": "code",
   "execution_count": null,
   "metadata": {},
   "outputs": [],
   "source": [
    "TFs = set(regulome_network_edges['0:ProteinA'])\n",
    "targets = set(regulome_network_edges['1:ProteinB'])\n",
    "non_TF_targets = targets - TFs\n",
    "\n",
    "degree_distr = regulome_network_graph.degree(mode='all', loops=False)\n",
    "\n",
    "avglocal_clusteringcoeff = regulome_network_graph.transitivity_avglocal_undirected(mode='zero', weights='5:PPV') # Ask which mode to use - nan or zero?\n",
    "global_cluseringcoeff = regulome_network_graph.transitivity_undirected(mode='nan')\n",
    "\n",
    "# path_lengths = regulome_network_graph.distances(source=None, target=None, weights='5:PPV', mode='all', algorithm='Djikstra') \n",
    "# path_lengths = list(itertools.chain.from_iterable(path_lengths)).remove(0.0)\n",
    "# with open('./files/path_lengths.pkl', 'wb') as lengths_file:\n",
    "#     pickle.dump(path_lengths, lengths_file)\n",
    "\n",
    "with open('./files/path_lengths.pkl', 'rb') as lengths_file:\n",
    "    path_lengths = pickle.load(lengths_file )\n"
   ]
  },
  {
   "cell_type": "code",
   "execution_count": null,
   "metadata": {},
   "outputs": [],
   "source": [
    "print(f\"Number of TFs: {len(TFs)}\")\n",
    "print(f\"Number of targets: {len(targets)}\")\n",
    "print(f\"Number of non-TF targets: {len(non_TF_targets)}\")\n",
    "\n",
    "# Degree distributions\n",
    "print(f\"mean degree: {mean(degree_distr)}\"\n",
    "      f\"\\nmedian degree: {median(degree_distr)}\"\n",
    "      f\"\\nsd degree: {stdev(degree_distr)}\" # several nodes with high degree pushing sd up\n",
    "      f\"\\nhighest degree: {max(degree_distr)}\"\n",
    "      f\"\\nlowest degree: {min(degree_distr)}\") # some outliers there with a shit ton of connections\n",
    "\n",
    "# CLustering Coefficients\n",
    "print(f\"\\nClustering Coefficients:\"\n",
    "      f\"\\nAverage local: {avglocal_clusteringcoeff}\"\n",
    "      f\"\\nGlobal: {global_cluseringcoeff}\")\n",
    "# slarge average but small global coefficient. Will generate many smaller clusters? \n",
    "# few connections between TF-target groups?\n",
    "\n",
    "# Path lengths\n",
    "print(f\"\\nPath lengths:\"\n",
    "      f\"\\nAverage: {mean(path_lengths)}\"\n",
    "      f\"\\nDiameter (longest): {max(path_lengths)}\")\n",
    "\n",
    "fig, axes = subplots(1,2, figsize=(12,4))\n",
    "sns.histplot(degree_distr, binwidth=5,\n",
    "            binrange=(0,250),\n",
    "            ax=axes[0]).set_title(\"Degree distribution\") # power distribution\n",
    "\n",
    "sns.histplot(path_lengths,\n",
    "             binwidth=1,\n",
    "             ax=axes[1]).set_title(\"path lengths\")\n",
    "\n"
   ]
  },
  {
   "cell_type": "code",
   "execution_count": null,
   "metadata": {},
   "outputs": [],
   "source": [
    "# visualize small portion of network for protein P20226\n",
    "\n",
    "mask = regulome_network_edges['0:ProteinA'].isin(['P20226', 'Q16254'])\n",
    "\n",
    "P20226_network = regulome_network_edges[mask]\n",
    "P20226_network = P20226_network[regulome_network_edges['5:PPV'] > 0.99]\n",
    "P20226_network_graph = ig.Graph.DataFrame(P20226_network, directed=True, use_vids = False)\n",
    "P20226_network_graph.summary()\n",
    "\n",
    "labels = P20226_network_graph.vs['name']\n",
    "\n",
    "ig.plot(P20226_network_graph, vertex_label=labels)\n",
    "\n"
   ]
  },
  {
   "cell_type": "code",
   "execution_count": null,
   "metadata": {},
   "outputs": [],
   "source": [
    "# for fun - identify some highyly connected targets\n",
    "\n",
    "# degree of all targets\n",
    "target_degrees = regulome_network_edges['1:ProteinB'].value_counts()\n",
    "highest_degree_target = target_degrees.axes[0].to_list()[0]\n",
    "\n",
    "shared_Q8IV63 = regulome_network_graph.induced_subgraph(regulome_network_graph.neighborhood(vertices=highest_degree_target, order=2, mode='all'))\n",
    "ig.plot(shared_Q8IV63)"
   ]
  }
 ],
 "metadata": {
  "kernelspec": {
   "display_name": "regulome",
   "language": "python",
   "name": "python3"
  },
  "language_info": {
   "codemirror_mode": {
    "name": "ipython",
    "version": 3
   },
   "file_extension": ".py",
   "mimetype": "text/x-python",
   "name": "python",
   "nbconvert_exporter": "python",
   "pygments_lexer": "ipython3",
   "version": "3.13.0"
  }
 },
 "nbformat": 4,
 "nbformat_minor": 2
}
