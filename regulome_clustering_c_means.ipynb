{
 "cells": [
  {
   "cell_type": "markdown",
   "metadata": {},
   "source": [
    "Leiden followed by C means clustering of regulome\n",
    "\n",
    "First make a proof of concept using igraph\n",
    "\n",
    "If it works:\n",
    "- make faster implementation"
   ]
  }
 ],
 "metadata": {
  "language_info": {
   "name": "python"
  }
 },
 "nbformat": 4,
 "nbformat_minor": 2
}
